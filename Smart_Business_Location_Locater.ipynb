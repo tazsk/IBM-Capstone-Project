{
  "cells": [
    {
      "cell_type": "markdown",
      "metadata": {
        "id": "QvgVIHuq4gSn"
      },
      "source": [
        "All the required libraries are imported."
      ]
    },
    {
      "cell_type": "code",
      "execution_count": 2,
      "metadata": {
        "id": "lIUWhTry4gSo"
      },
      "outputs": [],
      "source": [
        "import numpy as np\n",
        "import pandas as pd\n",
        "import urllib\n",
        "import math\n",
        "import statistics as st\n",
        "from sklearn import preprocessing\n",
        "\n",
        "import requests\n",
        "from pandas import json_normalize\n",
        "import json\n",
        "\n",
        "from geopy.geocoders import Nominatim\n",
        "\n",
        "import folium\n",
        "import matplotlib.cm as cm\n",
        "import matplotlib.colors as colors\n",
        "import matplotlib.pyplot as plt\n",
        "\n",
        "from sklearn.cluster import KMeans"
      ]
    },
    {
      "cell_type": "markdown",
      "metadata": {
        "id": "C5EktXRa4gSp"
      },
      "source": [
        "The name of the town/city and the type of business or recreational venue is taken as input. The user can select a business type and has a list of options to choose from."
      ]
    },
    {
      "cell_type": "code",
      "execution_count": 3,
      "metadata": {
        "colab": {
          "base_uri": "https://localhost:8080/"
        },
        "id": "FXTl2xP14gSp",
        "outputId": "6cdc97da-50c7-48ea-d6e3-91624863532a"
      },
      "outputs": [
        {
          "name": "stdout",
          "output_type": "stream",
          "text": [
            "Enter name of city/town along with state or country : California\n"
          ]
        }
      ],
      "source": [
        "entry=input(\"Enter name of city/town along with state or country : \")"
      ]
    },
    {
      "cell_type": "code",
      "execution_count": 5,
      "metadata": {
        "id": "IOVKnwwh4gSp"
      },
      "outputs": [],
      "source": [
        "categories=pd.read_csv('/content/categories.csv')\n",
        "categories=categories.sort_values('categories')"
      ]
    },
    {
      "cell_type": "code",
      "execution_count": null,
      "metadata": {
        "id": "Usc_1Nde4gSp",
        "outputId": "d726fcd5-7299-44b9-d926-6fb69a094446"
      },
      "outputs": [
        {
          "name": "stdout",
          "output_type": "stream",
          "text": [
            "Adult Boutique\n",
            "Afghan Restaurant\n",
            "African Restaurant\n",
            "American Restaurant\n",
            "Amphitheater\n",
            "Andhra Restaurant\n",
            "Aquarium\n",
            "Arcade\n",
            "Argentinian Restaurant\n",
            "Art Gallery\n",
            "Arts & Crafts Store\n",
            "Arts & Entertainment\n",
            "Asian Restaurant\n",
            "Athletics & Sports\n",
            "Awadhi Restaurant\n",
            "BBQ Joint\n",
            "Bagel Shop\n",
            "Bakery\n",
            "Bar\n",
            "Baseball Stadium\n",
            "Basketball Stadium\n",
            "Bath House\n",
            "Beach\n",
            "Bed & Breakfast\n",
            "Beer Bar\n",
            "Beer Store\n",
            "Beijing Restaurant\n",
            "Bengali Restaurant\n",
            "Big Box Store\n",
            "Bike Shop\n",
            "Bistro\n",
            "Boat or Ferry\n",
            "Bookstore\n",
            "Boutique\n",
            "Brazilian Restaurant\n",
            "Breakfast Spot\n",
            "Brewery\n",
            "Bridge\n",
            "Bubble Tea Shop\n",
            "Buddhist Temple\n",
            "Building\n",
            "Burger Joint\n",
            "Butcher\n",
            "Cafeteria\n",
            "Café\n",
            "Candy Store\n",
            "Cantonese Restaurant\n",
            "Capitol Building\n",
            "Chaat Place\n",
            "Cheese Shop\n",
            "Chinese Restaurant\n",
            "Chocolate Shop\n",
            "Church\n",
            "Clothing Store\n",
            "Club House\n",
            "Cocktail Bar\n",
            "Coffee Shop\n",
            "Comic Shop\n",
            "Concert Hall\n",
            "Construction & Landscaping\n",
            "Convenience Store\n",
            "Convention Center\n",
            "Cosmetics Shop\n",
            "Cricket Ground\n",
            "Cultural Center\n",
            "Cupcake Shop\n",
            "Cycle Studio\n",
            "Dance Studio\n",
            "Deli , Bodega\n",
            "Dentist's Office\n",
            "Department Store\n",
            "Dessert Shop\n",
            "Dhaba\n",
            "Diner\n",
            "Discount Store\n",
            "Dive Bar\n",
            "Dog Run\n",
            "Donburi Restaurant\n",
            "Donut Shop\n",
            "Dumpling Restaurant\n",
            "Eastern European Restaurant\n",
            "Electronics Store\n",
            "Event Space\n",
            "Exhibit\n",
            "Falafel Restaurant\n",
            "Fast Food Restaurant\n",
            "Field\n",
            "Filipino Restaurant\n",
            "Fish & Chips Shop\n",
            "Flower Shop\n",
            "Food\n",
            "Food & Drink Shop\n",
            "Food Court\n",
            "Food Truck\n",
            "Football Stadium\n",
            "Fountain\n",
            "French Restaurant\n",
            "Fried Chicken Joint\n",
            "Frozen Yogurt Shop\n",
            "Fruit & Vegetable Store\n",
            "Furniture , Home Store\n",
            "Gaming Cafe\n",
            "Garden\n",
            "Gas Station\n",
            "Gastropub\n",
            "General Entertainment\n",
            "German Restaurant\n",
            "Gift Shop\n",
            "Golf Course\n",
            "Gourmet Shop\n",
            "Grocery Store\n",
            "Gym\n",
            "Harbor , Marina\n",
            "Hardware Store\n",
            "Health Food Store\n",
            "Historic Site\n",
            "Hobby Shop\n",
            "Hong Kong Restaurant\n",
            "Hookah Bar\n",
            "Hostel\n",
            "Hot Dog Joint\n",
            "Hot Spring\n",
            "Hotel\n",
            "Hotpot Restaurant\n",
            "Hunan Restaurant\n",
            "Hyderabadi Restaurant\n",
            "Ice Cream Shop\n",
            "Indian Restaurant\n",
            "Indian Sweet Shop\n",
            "Irani Cafe\n",
            "Italian Restaurant\n",
            "Japanese Curry Restaurant\n",
            "Japanese Restaurant\n",
            "Jazz Club\n",
            "Jewelry Store\n",
            "Juice Bar\n",
            "Karnataka Restaurant\n",
            "Kebab Restaurant\n",
            "Korean Restaurant\n",
            "Kushikatsu Restaurant\n",
            "Lake\n",
            "Latin American Restaurant\n",
            "Lebanese Restaurant\n",
            "Library\n",
            "Lighthouse\n",
            "Liquor Store\n",
            "Lounge\n",
            "Maharashtrian Restaurant\n",
            "Marijuana Dispensary\n",
            "Market\n",
            "Massage Studio\n",
            "Mediterranean Restaurant\n",
            "Memorial Site\n",
            "Men's Store\n",
            "Mexican Restaurant\n",
            "Middle Eastern Restaurant\n",
            "Molecular Gastronomy Restaurant\n",
            "Monument , Landmark\n",
            "Mosque\n",
            "Motel\n",
            "Motorcycle Shop\n",
            "Mountain\n",
            "Mughlai Restaurant\n",
            "Multicuisine Indian Restaurant\n",
            "Multiplex\n",
            "Museum\n",
            "Music Venue\n",
            "Nail Salon\n",
            "Neighborhood\n",
            "New American Restaurant\n",
            "Nightclub\n",
            "Non-Profit\n",
            "Noodle House\n",
            "North Indian Restaurant\n",
            "Northeast Indian Restaurant\n",
            "Office\n",
            "Okonomiyaki Restaurant\n",
            "Opera House\n",
            "Optical Shop\n",
            "Organic Grocery\n",
            "Other Great Outdoors\n",
            "Outdoor Sculpture\n",
            "Park\n",
            "Parsi Restaurant\n",
            "Pastelaria\n",
            "Pastry Shop\n",
            "Pedestrian Plaza\n",
            "Peking Duck Restaurant\n",
            "Performing Arts Venue\n",
            "Pet Service\n",
            "Pet Store\n",
            "Pier\n",
            "Pilates Studio\n",
            "Pizza Place\n",
            "Playground\n",
            "Plaza\n",
            "Pool\n",
            "Portuguese Restaurant\n",
            "Post Office\n",
            "Pub\n",
            "Racetrack\n",
            "Ramen Restaurant\n",
            "Record Shop\n",
            "Resort\n",
            "Restaurant\n",
            "Rock Club\n",
            "Roof Deck\n",
            "Russian Restaurant\n",
            "Sake Bar\n",
            "Salad Place\n",
            "Salon , Barbershop\n",
            "Sandwich Place\n",
            "Scandinavian Restaurant\n",
            "Scenic Lookout\n",
            "Seafood Restaurant\n",
            "Shawarma Place\n",
            "Shoe Store\n",
            "Shopping Mall\n",
            "Shopping Plaza\n",
            "Shrine\n",
            "Skating Rink\n",
            "Smoke Shop\n",
            "Smoothie Shop\n",
            "Snack Place\n",
            "Soba Restaurant\n",
            "Soccer Field\n",
            "Soccer Stadium\n",
            "South Indian Restaurant\n",
            "Southern , Soul Food Restaurant\n",
            "Souvlaki Shop\n",
            "Spa\n",
            "Spanish Restaurant\n",
            "Speakeasy\n",
            "Spiritual Center\n",
            "Sporting Goods Shop\n",
            "Sports Bar\n",
            "Sports Club\n",
            "Stadium\n",
            "Stationery Store\n",
            "Steakhouse\n",
            "Street Art\n",
            "Street Food Gathering\n",
            "Sukiyaki Restaurant\n",
            "Sushi Restaurant\n",
            "Swiss Restaurant\n",
            "Szechuan Restaurant\n",
            "Taco Place\n",
            "Taiwanese Restaurant\n",
            "Takoyaki Place\n",
            "Tapas Restaurant\n",
            "Tea Room\n",
            "Temple\n",
            "Tempura Restaurant\n",
            "Tex-Mex Restaurant\n",
            "Thai Restaurant\n",
            "Theatre\n",
            "Theme Restaurant\n",
            "Tibetan Restaurant\n",
            "Tonkatsu Restaurant\n",
            "Tour Provider\n",
            "Toy , Game Store\n",
            "Track\n",
            "Track Stadium\n",
            "Trail\n",
            "Train Station\n",
            "Turkish Restaurant\n",
            "Udon Restaurant\n",
            "Unagi Restaurant\n",
            "Vegetarian , Vegan Restaurant\n",
            "Video Store\n",
            "Vietnamese Restaurant\n",
            "Volleyball Court\n",
            "Wagashi Place\n",
            "Waterfront\n",
            "Wine Bar\n",
            "Wine Shop\n",
            "Women's Store\n",
            "Xinjiang Restaurant\n",
            "Yakitori Restaurant\n",
            "Yemeni Restaurant\n",
            "Yoga Studio\n",
            "Yoshoku Restaurant\n",
            "Yunnan Restaurant\n",
            "Zhejiang Restaurant\n",
            "Zoo\n"
          ]
        }
      ],
      "source": [
        "for i in categories['categories'].values:\n",
        "    print(i)"
      ]
    },
    {
      "cell_type": "code",
      "execution_count": 6,
      "metadata": {
        "colab": {
          "base_uri": "https://localhost:8080/"
        },
        "id": "4P708edU4gSq",
        "outputId": "e0350f29-b1f1-4a31-840a-b6e7661a6fc8"
      },
      "outputs": [
        {
          "name": "stdout",
          "output_type": "stream",
          "text": [
            "Select the type of business you are currently planning to open. Choose from the list given above : Hostel\n"
          ]
        }
      ],
      "source": [
        "business=input('Select the type of business you are currently planning to open. Choose from the list given above : ')"
      ]
    },
    {
      "cell_type": "markdown",
      "metadata": {
        "id": "9k6rIRaA4gSq"
      },
      "source": [
        "The required parameters are arranged to make a Foursquare API call."
      ]
    },
    {
      "cell_type": "code",
      "execution_count": 7,
      "metadata": {
        "id": "KNK_IMHH4gSq"
      },
      "outputs": [],
      "source": [
        "address = entry\n",
        "\n",
        "geolocator = Nominatim(user_agent=\"coursera-capstone-project\")\n",
        "location = geolocator.geocode(address)\n",
        "latitude = location.latitude\n",
        "longitude = location.longitude"
      ]
    },
    {
      "cell_type": "code",
      "execution_count": 16,
      "metadata": {
        "id": "567dJQYu4gSq"
      },
      "outputs": [],
      "source": []
    },
    {
      "cell_type": "code",
      "execution_count": 19,
      "metadata": {
        "colab": {
          "base_uri": "https://localhost:8080/"
        },
        "id": "T29pp-7e4gSq",
        "outputId": "806e3b01-7ac3-496b-f86b-8bd75ad89fe0"
      },
      "outputs": [
        {
          "output_type": "stream",
          "name": "stdout",
          "text": [
            "{'meta': {'code': 200, 'requestId': '670725da4971255ca01d5aa3'}, 'response': {'queryRefinements': {'target': {'type': 'path', 'url': '/venue/explore', 'params': {'ll': '36.701463,-118.755997', 'radius': '5000'}}, 'refinements': [{'query': 'Food'}, {'query': 'Nightlife'}, {'query': 'Coffee'}, {'query': 'Shops'}, {'query': 'Arts'}, {'query': 'Outdoors'}]}, 'warning': {'text': \"There aren't a lot of results near you. Try something more general, reset your filters, or expand the search area.\"}, 'headerLocation': 'Current map view', 'headerFullLocation': 'Current map view', 'headerLocationGranularity': 'unknown', 'totalResults': 3, 'suggestedBounds': {'ne': {'lat': 36.74646314500004, 'lng': -118.69997524373117}, 'sw': {'lat': 36.65646305499995, 'lng': -118.81201875626881}}, 'groups': [{'type': 'Recommended Places', 'name': 'recommended', 'items': [{'reasons': {'count': 0, 'items': [{'summary': 'This spot is popular', 'type': 'general', 'reasonName': 'globalInteractionReason'}]}, 'venue': {'id': '64f25ce106b34c2a180f6c0f', 'name': 'Weaver Lake', 'location': {'lat': 36.70324671401083, 'lng': -118.79829883575438, 'labeledLatLngs': [{'label': 'display', 'lat': 36.70324671401083, 'lng': -118.79829883575438}], 'distance': 3780, 'cc': 'US', 'city': 'Three Rivers', 'state': 'CA', 'country': 'United States', 'formattedAddress': ['Three Rivers, CA', 'United States']}, 'categories': [{'id': '4bf58dd8d48988d161941735', 'name': 'Lake', 'pluralName': 'Lakes', 'shortName': 'Lake', 'icon': {'prefix': 'https://ss3.4sqi.net/img/categories_v2/parks_outdoors/lake_', 'suffix': '.png'}, 'categoryCode': 16023, 'mapIcon': 'fsq-default', 'primary': True}], 'photos': {'count': 0, 'groups': []}, 'createdAt': 1693605089}, 'referralId': 'e-0-64f25ce106b34c2a180f6c0f-0'}, {'reasons': {'count': 0, 'items': [{'summary': 'This spot is popular', 'type': 'general', 'reasonName': 'globalInteractionReason'}]}, 'venue': {'id': '521b7bcb11d22f4dccacc839', 'name': 'Sequoia High Sierra Camp', 'location': {'lat': 36.740855, 'lng': -118.730227, 'labeledLatLngs': [{'label': 'display', 'lat': 36.740855, 'lng': -118.730227}], 'distance': 4951, 'cc': 'US', 'city': 'Kings Canyon National Park', 'state': 'CA', 'country': 'United States', 'formattedAddress': ['Kings Canyon National Park, CA', 'United States']}, 'categories': [{'id': '4bf58dd8d48988d1e4941735', 'name': 'Campground', 'pluralName': 'Campgrounds', 'shortName': 'Campground', 'icon': {'prefix': 'https://ss3.4sqi.net/img/categories_v2/parks_outdoors/campground_', 'suffix': '.png'}, 'categoryCode': 16008, 'mapIcon': 'fsq-landmarks-outdoors', 'primary': True}], 'photos': {'count': 0, 'groups': []}, 'createdAt': 1377532875}, 'photo': {'id': '5b9d1499cb3fd2002c27b115', 'createdAt': 1537021081, 'prefix': 'https://fastly.4sqi.net/img/general/', 'suffix': '/113064075_PIjoFR2d3ipUBKdUP7pO4OdXX3-5Yt5H127p710gSEE.jpg', 'width': 1920, 'height': 1085, 'visibility': 'public'}, 'referralId': 'e-0-521b7bcb11d22f4dccacc839-1'}, {'reasons': {'count': 0, 'items': [{'summary': 'This spot is popular', 'type': 'general', 'reasonName': 'globalInteractionReason'}]}, 'venue': {'id': '599ded56a6031c156c1b71b7', 'name': 'Mitchell Peak', 'location': {'address': 'Mitchell Peak', 'lat': 36.732183, 'lng': -118.715229, 'labeledLatLngs': [{'label': 'display', 'lat': 36.732183, 'lng': -118.715229}], 'distance': 4992, 'postalCode': '00026', 'cc': 'US', 'city': 'East Tulare County', 'state': 'CA', 'country': 'United States', 'formattedAddress': ['Mitchell Peak', 'East Tulare County, CA 00026', 'United States']}, 'categories': [{'id': '4eb1d4d54b900d56c88a45fc', 'name': 'Mountain', 'pluralName': 'Mountains', 'shortName': 'Mountain', 'icon': {'prefix': 'https://ss3.4sqi.net/img/categories_v2/parks_outdoors/mountain_', 'suffix': '.png'}, 'categoryCode': 16027, 'mapIcon': 'fsq-landmarks-outdoors', 'primary': True}], 'photos': {'count': 0, 'groups': []}, 'createdAt': 1503522134}, 'referralId': 'e-0-599ded56a6031c156c1b71b7-2'}]}]}}\n"
          ]
        }
      ],
      "source": [
        "CLIENT_ID = 'SWWNHHEKWCPEHJKBPCWLGGN5BNKHHKU243TGGEY3MHO4ZK4H'\n",
        "CLIENT_SECRET = '4RUFRQHM00UUVURJIIMO4ITB2V12C1NX1Z3KTWTORWW0AB5Z'\n",
        "VERSION = '20180604'\n",
        "LIMIT = 100\n",
        "radius=5000\n",
        "url = 'https://api.foursquare.com/v2/venues/explore?&client_id={}&client_secret={}&v={}&ll={},{}&radius={}&limit={}'.format(\n",
        "    CLIENT_ID,\n",
        "    CLIENT_SECRET,\n",
        "    VERSION,\n",
        "    latitude,\n",
        "    longitude,\n",
        "    radius,\n",
        "    LIMIT)\n",
        "results = requests.get(url).json()\n",
        "print(results)"
      ]
    },
    {
      "cell_type": "markdown",
      "metadata": {
        "id": "dCCxa4D54gSr"
      },
      "source": [
        "The call returns a json file which is stored in a variable."
      ]
    },
    {
      "cell_type": "markdown",
      "metadata": {
        "id": "pHqwlHzh4gSr"
      },
      "source": [
        "Only the 'items' are taken from the json file."
      ]
    },
    {
      "cell_type": "code",
      "execution_count": 20,
      "metadata": {
        "id": "oxB6m48c4gSr"
      },
      "outputs": [],
      "source": [
        "items = results['response']['groups'][0]['items']"
      ]
    },
    {
      "cell_type": "markdown",
      "metadata": {
        "id": "hi0spXp04gSr"
      },
      "source": [
        "The json file is normalized and converted into a dataframe."
      ]
    },
    {
      "cell_type": "code",
      "execution_count": null,
      "metadata": {
        "id": "R1oSeGxK4gSr",
        "outputId": "183bfe27-33e8-4109-aab6-b80431f81049"
      },
      "outputs": [
        {
          "data": {
            "text/html": [
              "<div>\n",
              "<style scoped>\n",
              "    .dataframe tbody tr th:only-of-type {\n",
              "        vertical-align: middle;\n",
              "    }\n",
              "\n",
              "    .dataframe tbody tr th {\n",
              "        vertical-align: top;\n",
              "    }\n",
              "\n",
              "    .dataframe thead th {\n",
              "        text-align: right;\n",
              "    }\n",
              "</style>\n",
              "<table border=\"1\" class=\"dataframe\">\n",
              "  <thead>\n",
              "    <tr style=\"text-align: right;\">\n",
              "      <th></th>\n",
              "      <th>reasons.count</th>\n",
              "      <th>reasons.items</th>\n",
              "      <th>referralId</th>\n",
              "      <th>venue.categories</th>\n",
              "      <th>venue.delivery.id</th>\n",
              "      <th>venue.delivery.provider.icon.name</th>\n",
              "      <th>venue.delivery.provider.icon.prefix</th>\n",
              "      <th>venue.delivery.provider.icon.sizes</th>\n",
              "      <th>venue.delivery.provider.name</th>\n",
              "      <th>venue.delivery.url</th>\n",
              "      <th>...</th>\n",
              "      <th>venue.location.labeledLatLngs</th>\n",
              "      <th>venue.location.lat</th>\n",
              "      <th>venue.location.lng</th>\n",
              "      <th>venue.location.neighborhood</th>\n",
              "      <th>venue.location.postalCode</th>\n",
              "      <th>venue.location.state</th>\n",
              "      <th>venue.name</th>\n",
              "      <th>venue.photos.count</th>\n",
              "      <th>venue.photos.groups</th>\n",
              "      <th>venue.venuePage.id</th>\n",
              "    </tr>\n",
              "  </thead>\n",
              "  <tbody>\n",
              "    <tr>\n",
              "      <th>0</th>\n",
              "      <td>0</td>\n",
              "      <td>[{'summary': 'This spot is popular', 'type': '...</td>\n",
              "      <td>e-0-4bbf84aff8219c744d1db010-0</td>\n",
              "      <td>[{'id': '4bf58dd8d48988d1c1941735', 'name': 'M...</td>\n",
              "      <td>NaN</td>\n",
              "      <td>NaN</td>\n",
              "      <td>NaN</td>\n",
              "      <td>NaN</td>\n",
              "      <td>NaN</td>\n",
              "      <td>NaN</td>\n",
              "      <td>...</td>\n",
              "      <td>[{'label': 'display', 'lat': 36.73520975345603...</td>\n",
              "      <td>36.735210</td>\n",
              "      <td>-119.731683</td>\n",
              "      <td>NaN</td>\n",
              "      <td>93727</td>\n",
              "      <td>CA</td>\n",
              "      <td>Los Panchos</td>\n",
              "      <td>0</td>\n",
              "      <td>[]</td>\n",
              "      <td>NaN</td>\n",
              "    </tr>\n",
              "    <tr>\n",
              "      <th>1</th>\n",
              "      <td>0</td>\n",
              "      <td>[{'summary': 'This spot is popular', 'type': '...</td>\n",
              "      <td>e-0-4b771938f964a520387d2ee3-1</td>\n",
              "      <td>[{'id': '4bf58dd8d48988d1c5941735', 'name': 'S...</td>\n",
              "      <td>NaN</td>\n",
              "      <td>NaN</td>\n",
              "      <td>NaN</td>\n",
              "      <td>NaN</td>\n",
              "      <td>NaN</td>\n",
              "      <td>NaN</td>\n",
              "      <td>...</td>\n",
              "      <td>[{'label': 'display', 'lat': 36.73646547723637...</td>\n",
              "      <td>36.736465</td>\n",
              "      <td>-119.694362</td>\n",
              "      <td>NaN</td>\n",
              "      <td>93727</td>\n",
              "      <td>CA</td>\n",
              "      <td>Sunnyside Deli</td>\n",
              "      <td>0</td>\n",
              "      <td>[]</td>\n",
              "      <td>NaN</td>\n",
              "    </tr>\n",
              "    <tr>\n",
              "      <th>2</th>\n",
              "      <td>0</td>\n",
              "      <td>[{'summary': 'This spot is popular', 'type': '...</td>\n",
              "      <td>e-0-4dcda119b0fb25f6e32f44a2-2</td>\n",
              "      <td>[{'id': '4bf58dd8d48988d121941735', 'name': 'L...</td>\n",
              "      <td>NaN</td>\n",
              "      <td>NaN</td>\n",
              "      <td>NaN</td>\n",
              "      <td>NaN</td>\n",
              "      <td>NaN</td>\n",
              "      <td>NaN</td>\n",
              "      <td>...</td>\n",
              "      <td>[{'label': 'display', 'lat': 36.73655874130699...</td>\n",
              "      <td>36.736559</td>\n",
              "      <td>-119.694835</td>\n",
              "      <td>NaN</td>\n",
              "      <td>93727</td>\n",
              "      <td>CA</td>\n",
              "      <td>O'Sullivan's Sunnyside Lounge</td>\n",
              "      <td>0</td>\n",
              "      <td>[]</td>\n",
              "      <td>NaN</td>\n",
              "    </tr>\n",
              "    <tr>\n",
              "      <th>3</th>\n",
              "      <td>0</td>\n",
              "      <td>[{'summary': 'This spot is popular', 'type': '...</td>\n",
              "      <td>e-0-4bd4b3356f64952196f16dec-3</td>\n",
              "      <td>[{'id': '4bf58dd8d48988d16e941735', 'name': 'F...</td>\n",
              "      <td>1682806</td>\n",
              "      <td>/delivery_provider_grubhub_20180129.png</td>\n",
              "      <td>https://fastly.4sqi.net/img/general/cap/</td>\n",
              "      <td>[40, 50]</td>\n",
              "      <td>grubhub</td>\n",
              "      <td>https://www.grubhub.com/restaurant/wendys-765-...</td>\n",
              "      <td>...</td>\n",
              "      <td>[{'label': 'display', 'lat': 36.7350852, 'lng'...</td>\n",
              "      <td>36.735085</td>\n",
              "      <td>-119.699654</td>\n",
              "      <td>NaN</td>\n",
              "      <td>93727</td>\n",
              "      <td>CA</td>\n",
              "      <td>Wendy’s</td>\n",
              "      <td>0</td>\n",
              "      <td>[]</td>\n",
              "      <td>NaN</td>\n",
              "    </tr>\n",
              "    <tr>\n",
              "      <th>4</th>\n",
              "      <td>0</td>\n",
              "      <td>[{'summary': 'This spot is popular', 'type': '...</td>\n",
              "      <td>e-0-4b91b9ecf964a520f4d233e3-4</td>\n",
              "      <td>[{'id': '4bf58dd8d48988d145941735', 'name': 'C...</td>\n",
              "      <td>NaN</td>\n",
              "      <td>NaN</td>\n",
              "      <td>NaN</td>\n",
              "      <td>NaN</td>\n",
              "      <td>NaN</td>\n",
              "      <td>NaN</td>\n",
              "      <td>...</td>\n",
              "      <td>[{'label': 'display', 'lat': 36.73672804808641...</td>\n",
              "      <td>36.736728</td>\n",
              "      <td>-119.698916</td>\n",
              "      <td>NaN</td>\n",
              "      <td>93727</td>\n",
              "      <td>CA</td>\n",
              "      <td>Sunrise Kitchen</td>\n",
              "      <td>0</td>\n",
              "      <td>[]</td>\n",
              "      <td>NaN</td>\n",
              "    </tr>\n",
              "  </tbody>\n",
              "</table>\n",
              "<p>5 rows × 28 columns</p>\n",
              "</div>"
            ],
            "text/plain": [
              "   reasons.count                                      reasons.items  \\\n",
              "0              0  [{'summary': 'This spot is popular', 'type': '...   \n",
              "1              0  [{'summary': 'This spot is popular', 'type': '...   \n",
              "2              0  [{'summary': 'This spot is popular', 'type': '...   \n",
              "3              0  [{'summary': 'This spot is popular', 'type': '...   \n",
              "4              0  [{'summary': 'This spot is popular', 'type': '...   \n",
              "\n",
              "                       referralId  \\\n",
              "0  e-0-4bbf84aff8219c744d1db010-0   \n",
              "1  e-0-4b771938f964a520387d2ee3-1   \n",
              "2  e-0-4dcda119b0fb25f6e32f44a2-2   \n",
              "3  e-0-4bd4b3356f64952196f16dec-3   \n",
              "4  e-0-4b91b9ecf964a520f4d233e3-4   \n",
              "\n",
              "                                    venue.categories venue.delivery.id  \\\n",
              "0  [{'id': '4bf58dd8d48988d1c1941735', 'name': 'M...               NaN   \n",
              "1  [{'id': '4bf58dd8d48988d1c5941735', 'name': 'S...               NaN   \n",
              "2  [{'id': '4bf58dd8d48988d121941735', 'name': 'L...               NaN   \n",
              "3  [{'id': '4bf58dd8d48988d16e941735', 'name': 'F...           1682806   \n",
              "4  [{'id': '4bf58dd8d48988d145941735', 'name': 'C...               NaN   \n",
              "\n",
              "         venue.delivery.provider.icon.name  \\\n",
              "0                                      NaN   \n",
              "1                                      NaN   \n",
              "2                                      NaN   \n",
              "3  /delivery_provider_grubhub_20180129.png   \n",
              "4                                      NaN   \n",
              "\n",
              "        venue.delivery.provider.icon.prefix  \\\n",
              "0                                       NaN   \n",
              "1                                       NaN   \n",
              "2                                       NaN   \n",
              "3  https://fastly.4sqi.net/img/general/cap/   \n",
              "4                                       NaN   \n",
              "\n",
              "  venue.delivery.provider.icon.sizes venue.delivery.provider.name  \\\n",
              "0                                NaN                          NaN   \n",
              "1                                NaN                          NaN   \n",
              "2                                NaN                          NaN   \n",
              "3                           [40, 50]                      grubhub   \n",
              "4                                NaN                          NaN   \n",
              "\n",
              "                                  venue.delivery.url         ...          \\\n",
              "0                                                NaN         ...           \n",
              "1                                                NaN         ...           \n",
              "2                                                NaN         ...           \n",
              "3  https://www.grubhub.com/restaurant/wendys-765-...         ...           \n",
              "4                                                NaN         ...           \n",
              "\n",
              "                       venue.location.labeledLatLngs venue.location.lat  \\\n",
              "0  [{'label': 'display', 'lat': 36.73520975345603...          36.735210   \n",
              "1  [{'label': 'display', 'lat': 36.73646547723637...          36.736465   \n",
              "2  [{'label': 'display', 'lat': 36.73655874130699...          36.736559   \n",
              "3  [{'label': 'display', 'lat': 36.7350852, 'lng'...          36.735085   \n",
              "4  [{'label': 'display', 'lat': 36.73672804808641...          36.736728   \n",
              "\n",
              "  venue.location.lng venue.location.neighborhood venue.location.postalCode  \\\n",
              "0        -119.731683                         NaN                     93727   \n",
              "1        -119.694362                         NaN                     93727   \n",
              "2        -119.694835                         NaN                     93727   \n",
              "3        -119.699654                         NaN                     93727   \n",
              "4        -119.698916                         NaN                     93727   \n",
              "\n",
              "  venue.location.state                     venue.name venue.photos.count  \\\n",
              "0                   CA                    Los Panchos                  0   \n",
              "1                   CA                 Sunnyside Deli                  0   \n",
              "2                   CA  O'Sullivan's Sunnyside Lounge                  0   \n",
              "3                   CA                        Wendy’s                  0   \n",
              "4                   CA                Sunrise Kitchen                  0   \n",
              "\n",
              "  venue.photos.groups  venue.venuePage.id  \n",
              "0                  []                 NaN  \n",
              "1                  []                 NaN  \n",
              "2                  []                 NaN  \n",
              "3                  []                 NaN  \n",
              "4                  []                 NaN  \n",
              "\n",
              "[5 rows x 28 columns]"
            ]
          },
          "execution_count": 92,
          "metadata": {},
          "output_type": "execute_result"
        }
      ],
      "source": [
        "dataframe = json_normalize(items)\n",
        "dataframe.head()"
      ]
    },
    {
      "cell_type": "markdown",
      "metadata": {
        "id": "780xmeA_4gSs"
      },
      "source": [
        "The required columns are retrieved and renamed as required."
      ]
    },
    {
      "cell_type": "code",
      "execution_count": 21,
      "metadata": {
        "id": "w_0NnlSa4gSs"
      },
      "outputs": [],
      "source": [
        "def get_category_type(row):\n",
        "    try:\n",
        "        categories_list = row['categories']\n",
        "    except:\n",
        "        categories_list = row['venue.categories']\n",
        "\n",
        "    if len(categories_list) == 0:\n",
        "        return None\n",
        "    else:\n",
        "        return categories_list[0]['name']"
      ]
    },
    {
      "cell_type": "code",
      "execution_count": 22,
      "metadata": {
        "id": "ApS6wF3t4gSs"
      },
      "outputs": [],
      "source": [
        "venues = results['response']['groups'][0]['items']\n",
        "\n",
        "nearby_venues = json_normalize(venues)\n",
        "\n",
        "filtered_columns = ['venue.name', 'venue.categories', 'venue.location.lat', 'venue.location.lng']\n",
        "nearby_venues =nearby_venues.loc[:, filtered_columns]\n",
        "\n",
        "nearby_venues['venue.categories'] = nearby_venues.apply(get_category_type, axis=1)\n",
        "\n",
        "nearby_venues.columns = [col.split(\".\")[-1] for col in nearby_venues.columns]\n",
        "\n",
        "nearby_venues['categories']=nearby_venues['categories'].str.replace('/',',')\n",
        "\n",
        "old_nearby_venues=nearby_venues"
      ]
    },
    {
      "cell_type": "code",
      "execution_count": 23,
      "metadata": {
        "id": "80g7C1c64gSs"
      },
      "outputs": [],
      "source": [
        "check_list=['Restaurant','Store','Shop','Garden','Park','Gym','Museum','Theatre','Hotel','Cafe','Market','Pub']\n",
        "new_check_list=['Restaurant','Everyday Store','Everyday Shop','Garden','Park','Gym','Museum','Theatre','Hotel','Cafe','Market','Pub']"
      ]
    },
    {
      "cell_type": "markdown",
      "metadata": {
        "id": "Lak3Jn3w4gSs"
      },
      "source": [
        "Data cleaning is thoroughly performed. Some venue categories are renamed to some convenient titles which would further make it easy and effective when the machine learning algorithms are applied. Two copies of the same dataframe is made but with slight variations. The stores,shops,bars and restaurants are not renamed for the dataframe 'old_nearby_venues' so as to enable the user in giving an accurate input later."
      ]
    },
    {
      "cell_type": "code",
      "execution_count": 24,
      "metadata": {
        "id": "_uLq92W74gSs"
      },
      "outputs": [],
      "source": [
        "new=nearby_venues[~nearby_venues['categories'].str.contains('Restaurant')]\n",
        "new=new[~new['categories'].str.contains('Bar')]\n",
        "new=new[~new['categories'].str.contains('Plaza')]\n",
        "new=new[~new['categories'].str.contains('Store')]\n",
        "new=new[~new['categories'].str.contains('store')]\n",
        "new=new[~new['categories'].str.contains('Shop')]\n",
        "new=new[~new['categories'].str.contains('shop')]\n",
        "new=new[~new['categories'].str.contains('Garden')]\n",
        "new=new[~new['categories'].str.contains('Park')]\n",
        "new=new[~new['categories'].str.contains('Gym')]\n",
        "new=new[~new['categories'].str.contains('Museum')]\n",
        "new=new[~new['categories'].str.contains('Theatre')]\n",
        "new=new[~new['categories'].str.contains('Theater')]\n",
        "new=new[~new['categories'].str.contains('Hotel')]\n",
        "new=new[~new['categories'].str.contains('Café')]\n",
        "new=new[~new['categories'].str.contains('Market')]\n",
        "new=new[~new['categories'].str.contains('market')]\n",
        "new=new[~new['categories'].str.contains('Pub')]\n",
        "new=new[~new['categories'].str.contains('pub')]"
      ]
    },
    {
      "cell_type": "code",
      "execution_count": 25,
      "metadata": {
        "id": "AlzEZibC4gSs"
      },
      "outputs": [],
      "source": [
        "res=nearby_venues[nearby_venues['categories'].str.contains('Restaurant')]\n",
        "bar=nearby_venues[nearby_venues['categories'].str.contains('Bar')]\n",
        "plaza=nearby_venues[nearby_venues['categories'].str.contains('Plaza')]\n",
        "store=nearby_venues[nearby_venues['categories'].str.contains('Store')]\n",
        "store1=nearby_venues[nearby_venues['categories'].str.contains('store')]\n",
        "shop=nearby_venues[nearby_venues['categories'].str.contains('Shop')]\n",
        "shop1=nearby_venues[nearby_venues['categories'].str.contains('shop')]\n",
        "gar=nearby_venues[nearby_venues['categories'].str.contains('Garden')]\n",
        "park=nearby_venues[nearby_venues['categories'].str.contains('Park')]\n",
        "gym=nearby_venues[nearby_venues['categories'].str.contains('Gym')]\n",
        "mus=nearby_venues[nearby_venues['categories'].str.contains('Museum')]\n",
        "thr=nearby_venues[nearby_venues['categories'].str.contains('Theatre')]\n",
        "thr1=nearby_venues[nearby_venues['categories'].str.contains('Theater')]\n",
        "hot=nearby_venues[nearby_venues['categories'].str.contains('Hotel')]\n",
        "cafe=nearby_venues[nearby_venues['categories'].str.contains('Café')]\n",
        "mark=nearby_venues[nearby_venues['categories'].str.contains('Market')]\n",
        "mark1=nearby_venues[nearby_venues['categories'].str.contains('market')]\n",
        "pub=nearby_venues[nearby_venues['categories'].str.contains('Pub')]\n",
        "pub1=nearby_venues[nearby_venues['categories'].str.contains('pub')]\n",
        "\n",
        "res.categories='Restaurant'\n",
        "bar.categories='Bar'\n",
        "plaza.categories='Plaza'\n",
        "store.categories='Everyday Store'\n",
        "store1.categories='Everyday Store'\n",
        "shop.categories='Everyday Shop'\n",
        "shop1.categories='Everyday Shop'\n",
        "gar.categories='Garden'\n",
        "park.categories='Park'\n",
        "gym.categories='Gym'\n",
        "mus.categories='Museum'\n",
        "thr.categories='Theatre'\n",
        "thr1.categories='Theatre'\n",
        "hot.categories='Hotel'\n",
        "cafe.categories='Cafe'\n",
        "mark.categories='Market'\n",
        "mark1.categories='Market'\n",
        "pub.categories='Pub'\n",
        "pub1.categories='Pub'"
      ]
    },
    {
      "cell_type": "markdown",
      "metadata": {
        "id": "xp_CpiOQ4gSt"
      },
      "source": [
        "The renamed column data is appended to the new dataframe named 'new' and is finally stored in the existing dataframe 'nearby_venues'."
      ]
    },
    {
      "cell_type": "code",
      "execution_count": 27,
      "metadata": {
        "id": "LvIdtOuF4gSt"
      },
      "outputs": [],
      "source": [
        "import pandas as pd\n",
        "new = pd.concat([new, res, bar, plaza, store, store1, shop, shop1, gar, park, gym, mus, thr, thr1, hot, cafe, mark, mark1, pub, pub1])"
      ]
    },
    {
      "cell_type": "code",
      "execution_count": 28,
      "metadata": {
        "id": "5bItto334gSt"
      },
      "outputs": [],
      "source": [
        "nearby_venues=new"
      ]
    },
    {
      "cell_type": "code",
      "execution_count": 29,
      "metadata": {
        "id": "UsPR-evl4gSt"
      },
      "outputs": [],
      "source": [
        "new=old_nearby_venues[~old_nearby_venues['categories'].str.contains('Garden')]\n",
        "new=new[~new['categories'].str.contains('Plaza')]\n",
        "new=new[~new['categories'].str.contains('Park')]\n",
        "new=new[~new['categories'].str.contains('Gym')]\n",
        "new=new[~new['categories'].str.contains('Museum')]\n",
        "new=new[~new['categories'].str.contains('Theatre')]\n",
        "new=new[~new['categories'].str.contains('Theater')]\n",
        "new=new[~new['categories'].str.contains('Hotel')]\n",
        "new=new[~new['categories'].str.contains('Café')]\n",
        "new=new[~new['categories'].str.contains('Market')]\n",
        "new=new[~new['categories'].str.contains('market')]\n",
        "new=new[~new['categories'].str.contains('Pub')]\n",
        "new=new[~new['categories'].str.contains('pub')]"
      ]
    },
    {
      "cell_type": "code",
      "execution_count": 30,
      "metadata": {
        "id": "8AGPoVcg4gSt"
      },
      "outputs": [],
      "source": [
        "gar=old_nearby_venues[old_nearby_venues['categories'].str.contains('Garden')]\n",
        "plaza=old_nearby_venues[old_nearby_venues['categories'].str.contains('Plaza')]\n",
        "park=old_nearby_venues[old_nearby_venues['categories'].str.contains('Park')]\n",
        "gym=old_nearby_venues[old_nearby_venues['categories'].str.contains('Gym')]\n",
        "mus=old_nearby_venues[old_nearby_venues['categories'].str.contains('Museum')]\n",
        "thr=old_nearby_venues[old_nearby_venues['categories'].str.contains('Theatre')]\n",
        "thr1=old_nearby_venues[old_nearby_venues['categories'].str.contains('Theater')]\n",
        "hot=old_nearby_venues[old_nearby_venues['categories'].str.contains('Hotel')]\n",
        "cafe=old_nearby_venues[old_nearby_venues['categories'].str.contains('Café')]\n",
        "mark=old_nearby_venues[old_nearby_venues['categories'].str.contains('Market')]\n",
        "mark1=old_nearby_venues[old_nearby_venues['categories'].str.contains('market')]\n",
        "pub=old_nearby_venues[old_nearby_venues['categories'].str.contains('Pub')]\n",
        "pub1=old_nearby_venues[old_nearby_venues['categories'].str.contains('pub')]"
      ]
    },
    {
      "cell_type": "code",
      "execution_count": 31,
      "metadata": {
        "id": "gJrIFF334gSt"
      },
      "outputs": [],
      "source": [
        "gar.categories='Garden'\n",
        "plaza.categories='Plaza'\n",
        "park.categories='Park'\n",
        "gym.categories='Gym'\n",
        "mus.categories='Museum'\n",
        "thr.categories='Theatre'\n",
        "thr1.categories='Theatre'\n",
        "hot.categories='Hotel'\n",
        "cafe.categories='Café'\n",
        "mark.categories='Market'\n",
        "mark1.categories='Market'\n",
        "pub.categories='Pub'\n",
        "pub1.categories='Pub'"
      ]
    },
    {
      "cell_type": "markdown",
      "metadata": {
        "id": "AisXwZwy4gSt"
      },
      "source": [
        "The renamed column data is appended to the new dataframe named 'new' and is finally stored in the existing dataframe 'old_nearby_venues'."
      ]
    },
    {
      "cell_type": "code",
      "execution_count": 33,
      "metadata": {
        "id": "ZQcDDU_g4gSt"
      },
      "outputs": [],
      "source": [
        "import pandas as pd\n",
        "\n",
        "new = pd.concat([new, gar, plaza, park, gym, mus, thr, thr1, hot, cafe, mark, mark1, pub, pub1])"
      ]
    },
    {
      "cell_type": "code",
      "execution_count": 34,
      "metadata": {
        "id": "--Rx1dvk4gSt"
      },
      "outputs": [],
      "source": [
        "old_nearby_venues=new"
      ]
    },
    {
      "cell_type": "markdown",
      "metadata": {
        "id": "gQuxq6ei4gSt"
      },
      "source": [
        "The 'categories' column data is split into two strings with the delimiter being comma(,), and only the first string is kept."
      ]
    },
    {
      "cell_type": "code",
      "execution_count": 35,
      "metadata": {
        "id": "U4AQrNyg4gSt"
      },
      "outputs": [],
      "source": [
        "old_nearby_venues['categories'] = old_nearby_venues['categories'].str.split(',').str[0]"
      ]
    },
    {
      "cell_type": "code",
      "execution_count": 36,
      "metadata": {
        "id": "I1KX2FCN4gSu"
      },
      "outputs": [],
      "source": [
        "nearby_venues['categories'] = nearby_venues['categories'].str.split(',').str[0]"
      ]
    },
    {
      "cell_type": "markdown",
      "metadata": {
        "id": "YNDRxaWG4gSu"
      },
      "source": [
        "White spaces from the ends of string are removed."
      ]
    },
    {
      "cell_type": "code",
      "execution_count": 37,
      "metadata": {
        "id": "tR_7fKpn4gSu"
      },
      "outputs": [],
      "source": [
        "old_nearby_venues.categories = old_nearby_venues.categories.str.rstrip()"
      ]
    },
    {
      "cell_type": "code",
      "execution_count": 38,
      "metadata": {
        "colab": {
          "base_uri": "https://localhost:8080/"
        },
        "id": "VwtB8kHo4gSu",
        "outputId": "84e635a0-5e74-4328-f76d-3eff4fbd00ec"
      },
      "outputs": [
        {
          "output_type": "execute_result",
          "data": {
            "text/plain": [
              "3"
            ]
          },
          "metadata": {},
          "execution_count": 38
        }
      ],
      "source": [
        "row_count = nearby_venues.shape[0]\n",
        "row_count"
      ]
    },
    {
      "cell_type": "markdown",
      "metadata": {
        "id": "5Ztteozw4gSu"
      },
      "source": [
        "One hot encoding is performed on the 'categories' column."
      ]
    },
    {
      "cell_type": "code",
      "execution_count": 39,
      "metadata": {
        "id": "-HprKRom4gSu"
      },
      "outputs": [],
      "source": [
        "onehot = pd.get_dummies(nearby_venues[['categories']], prefix=\"\", prefix_sep=\"\")"
      ]
    },
    {
      "cell_type": "markdown",
      "metadata": {
        "id": "dhRWJkWP4gSu"
      },
      "source": [
        "The 'sum of squared mean' is run 20 times to get the maximum optimum value of k."
      ]
    },
    {
      "cell_type": "code",
      "execution_count": 40,
      "metadata": {
        "id": "COb9VJcZ4gSu"
      },
      "outputs": [],
      "source": [
        "n=20\n",
        "ks=np.zeros((n-1))\n",
        "max_k_optimum=0\n",
        "\n",
        "for count in range(1,n):\n",
        "    if row_count < 11:\n",
        "        k_rng=range(1,row_count)\n",
        "        sse=[]\n",
        "        for k in k_rng:\n",
        "            km=KMeans(n_clusters=k)\n",
        "            km.fit(onehot)\n",
        "            sse.append(km.inertia_)\n",
        "\n",
        "        a=sse[0]-sse[row_count-2]\n",
        "        b=k_rng[row_count-2]-k_rng[0]\n",
        "        c1=k_rng[0] * sse[row_count-2]\n",
        "        c2=k_rng[row_count-2] * sse[0]\n",
        "        c= c1 - c2\n",
        "\n",
        "        def calc_distance(x1, y1, a, b, c):\n",
        "            d=abs((a * x1 + b * y1 + c)) / (math.sqrt(a * a + b * b))\n",
        "            return d\n",
        "\n",
        "        points=[]\n",
        "        for k in range(row_count-1):\n",
        "            points.append(calc_distance(k_rng[k], sse[k], a, b, c))\n",
        "\n",
        "        k_optimum=str(points.index(max(points))+1)\n",
        "        k_optimum=(int)(k_optimum)\n",
        "        ks[count-1]=k_optimum\n",
        "        if ks[count-1] > max_k_optimum:\n",
        "            max_k_optimum=ks[count-1]\n",
        "\n",
        "    else:\n",
        "        k_rng=range(1,25)\n",
        "        sse=[]\n",
        "        for k in k_rng:\n",
        "            km=KMeans(n_clusters=k)\n",
        "            km.fit(onehot)\n",
        "            sse.append(km.inertia_)\n",
        "\n",
        "        a=sse[0]-sse[23]\n",
        "        b=k_rng[23]-k_rng[0]\n",
        "        c1=k_rng[0] * sse[23]\n",
        "        c2=k_rng[23] * sse[0]\n",
        "        c= c1 - c2\n",
        "\n",
        "        def calc_distance(x1, y1, a, b, c):\n",
        "            d=abs((a * x1 + b * y1 + c)) / (math.sqrt(a * a + b * b))\n",
        "            return d\n",
        "\n",
        "        points=[]\n",
        "        for k in range(24):\n",
        "            points.append(calc_distance(k_rng[k], sse[k], a, b, c))\n",
        "\n",
        "        k_optimum=str(points.index(max(points))+1)\n",
        "        k_optimum=(int)(k_optimum)\n",
        "        ks[count-1]=k_optimum\n",
        "        if ks[count-1] > max_k_optimum:\n",
        "            max_k_optimum=ks[count-1]"
      ]
    },
    {
      "cell_type": "code",
      "execution_count": 41,
      "metadata": {
        "colab": {
          "base_uri": "https://localhost:8080/"
        },
        "id": "lPNes7_k4gSu",
        "outputId": "228f0d4f-c03b-48d2-b48e-b3dc006dfdda"
      },
      "outputs": [
        {
          "output_type": "stream",
          "name": "stdout",
          "text": [
            "1\n"
          ]
        }
      ],
      "source": [
        "max_k_optimum=(int)(max_k_optimum)\n",
        "print(max_k_optimum)"
      ]
    },
    {
      "cell_type": "markdown",
      "metadata": {
        "id": "uj1BOmV94gSv"
      },
      "source": [
        "The k-means clustering algorithm is applied on the one hot encoded data with the value of k being the maximum optimum value of k calculated from the above piece of code."
      ]
    },
    {
      "cell_type": "code",
      "execution_count": 42,
      "metadata": {
        "id": "POqhUn-94gSv"
      },
      "outputs": [],
      "source": [
        "kmeans=KMeans(n_clusters=max_k_optimum,random_state=0).fit(onehot)"
      ]
    },
    {
      "cell_type": "markdown",
      "metadata": {
        "id": "pOsBEliA4gSv"
      },
      "source": [
        "The cluster labels are inserted into the dataframe 'nearby_venues' in a column named 'cluster'."
      ]
    },
    {
      "cell_type": "code",
      "execution_count": 43,
      "metadata": {
        "id": "VSADzttC4gSv"
      },
      "outputs": [],
      "source": [
        "nearby_venues.insert(0, 'cluster', kmeans.labels_)"
      ]
    },
    {
      "cell_type": "markdown",
      "metadata": {
        "id": "zmq5z0ke4gSv"
      },
      "source": [
        "A folium map is generated displaying all the venue categories clustered in different colors."
      ]
    },
    {
      "cell_type": "code",
      "execution_count": 44,
      "metadata": {
        "id": "OizkurPy4gSv"
      },
      "outputs": [],
      "source": [
        "import matplotlib.cm as cm\n",
        "import matplotlib.colors as colors\n",
        "\n",
        "# create map\n",
        "map_clusters = folium.Map(location=[latitude, longitude], zoom_start=11)\n",
        "\n",
        "# set color scheme for the clusters\n",
        "x = np.arange(max_k_optimum)\n",
        "ys = [i + x + (i*x)**2 for i in range(max_k_optimum)]\n",
        "colors_array = cm.rainbow(np.linspace(0, 1, len(ys)))\n",
        "rainbow = [colors.rgb2hex(i) for i in colors_array]\n",
        "\n",
        "# add markers to the map\n",
        "markers_colors = []\n",
        "for lat, lon, name, cluster in zip(nearby_venues['lat'], nearby_venues['lng'], nearby_venues['name'], nearby_venues['cluster']):\n",
        "    label = folium.Popup(' Cluster ' + str(cluster) + ':  ' + str(name), parse_html=True)\n",
        "    folium.CircleMarker(\n",
        "        [lat, lon],\n",
        "        radius=5,\n",
        "        popup=label,\n",
        "        color=rainbow[cluster-1],\n",
        "        fill=True,\n",
        "        fill_color=rainbow[cluster-1],\n",
        "        fill_opacity=0.7).add_to(map_clusters)"
      ]
    },
    {
      "cell_type": "markdown",
      "metadata": {
        "id": "QQz4ytxm4gSv"
      },
      "source": [
        "The major venue categories along with their percentages are taken into two different lists. Also, the average latitudes and longitudes of the major categories are stored in other lists."
      ]
    },
    {
      "cell_type": "code",
      "execution_count": 45,
      "metadata": {
        "id": "xYMw-yLy4gSv"
      },
      "outputs": [],
      "source": [
        "avg_lat=[]\n",
        "avg_lng=[]\n",
        "clustered_name=[]\n",
        "clustered_percent=[]\n",
        "identifier=0\n",
        "final=0\n",
        "\n",
        "for i in range(0,max_k_optimum):\n",
        "    cust=nearby_venues[nearby_venues['cluster']==i]\n",
        "    cust=pd.DataFrame(cust)\n",
        "    if len(cust['categories'].unique()) == 1:\n",
        "        count=cust.shape[0]\n",
        "        mean_lat=cust['lat'].mean()\n",
        "        mean_lng=cust['lng'].mean()\n",
        "        avg_lat.append(mean_lat)\n",
        "        avg_lng.append(mean_lng)\n",
        "        val=cust['categories'].values[0]\n",
        "        n=len(cust)\n",
        "        percent=(n/row_count)*100\n",
        "        percent=round(percent)\n",
        "        clustered_name.append(val)\n",
        "        clustered_percent.append(percent)\n",
        "    else:\n",
        "        n=len(cust)\n",
        "        percent=(n/row_count)*100\n",
        "        percent=round(percent)\n",
        "        val='Miscellaneous'\n",
        "        final=1\n",
        "        clustered_name.append(val)\n",
        "        clustered_percent.append(percent)"
      ]
    },
    {
      "cell_type": "markdown",
      "metadata": {
        "id": "VyyeHnBB4gSv"
      },
      "source": [
        "The number of venue categories the user would love to have around his/her business is taken as input. Also, the venue categories of that particular town/city is displayed for the user to make a choice from."
      ]
    },
    {
      "cell_type": "code",
      "execution_count": 49,
      "metadata": {
        "colab": {
          "base_uri": "https://localhost:8080/"
        },
        "id": "vAjHprM_4gSv",
        "outputId": "54981da9-27d4-4e3b-efb0-7e6a2fad2cc8"
      },
      "outputs": [
        {
          "name": "stdout",
          "output_type": "stream",
          "text": [
            "Campground\n",
            "Lake\n",
            "Mountain\n",
            "\n",
            "Enter number of venues you would love to have around your business from the list above. You can enter a maximum of 3 venues. 3\n"
          ]
        }
      ],
      "source": [
        "options=[]\n",
        "c=0\n",
        "df=pd.DataFrame(columns=['categories'])\n",
        "df.categories=old_nearby_venues['categories']\n",
        "df=df.categories.unique()\n",
        "df=pd.DataFrame(df,columns=['categories'])\n",
        "df=df.sort_values('categories')\n",
        "for i in df['categories'].values:\n",
        "    print(i)\n",
        "    c=c+1\n",
        "print()\n",
        "maximum=input(\"Enter number of venues you would love to have around your business from the list above. You can enter a maximum of \" + (str)(c) + \" venues. \")"
      ]
    },
    {
      "cell_type": "code",
      "execution_count": 50,
      "metadata": {
        "colab": {
          "base_uri": "https://localhost:8080/"
        },
        "id": "Ghior_sU4gSv",
        "outputId": "d0104a42-ecba-4024-a75c-cb58e9f04ea0"
      },
      "outputs": [
        {
          "name": "stdout",
          "output_type": "stream",
          "text": [
            "Option 1 : museum\n",
            "Option 2 : airport\n",
            "Option 3 : hotel\n"
          ]
        }
      ],
      "source": [
        "for i in range(0,(int)(maximum)):\n",
        "    option=input('Option ' + (str)(i+1) + ' : ')\n",
        "    options.append(option)"
      ]
    },
    {
      "cell_type": "markdown",
      "metadata": {
        "id": "m4gTu55z4gSv"
      },
      "source": [
        "The new possible coordinates are calculated based on the information given by the user."
      ]
    },
    {
      "cell_type": "code",
      "execution_count": 56,
      "metadata": {
        "id": "NpIFIaD54gSv"
      },
      "outputs": [],
      "source": [
        "opt_lat = []\n",
        "opt_lng = []\n",
        "lat = 0\n",
        "lng = 0\n",
        "count = 0\n",
        "\n",
        "for i in range(len(options)):\n",
        "    check = options[i]\n",
        "    for (j, k, l) in zip(old_nearby_venues['categories'].values, old_nearby_venues['lat'].values, old_nearby_venues['lng'].values):\n",
        "        if j == check:\n",
        "            count += 1\n",
        "            lat += k\n",
        "            lng += l\n",
        "\n",
        "    # Check to avoid division by zero\n",
        "    if count > 0:\n",
        "        lat = lat / count\n",
        "        lng = lng / count\n",
        "    else:\n",
        "        lat, lng = None, None  # or use some default values if no match is found\n",
        "\n",
        "    opt_lat.append(lat)\n",
        "    opt_lng.append(lng)\n",
        "\n",
        "    # Reset values for the next iteration\n",
        "    lat = 0\n",
        "    lng = 0\n",
        "    count = 0\n"
      ]
    },
    {
      "cell_type": "code",
      "execution_count": 55,
      "metadata": {
        "id": "Pj5S3Tms4gSw"
      },
      "outputs": [],
      "source": [
        "\n",
        "import statistics as st\n",
        "\n",
        "# Filter out None values before calculating the mean\n",
        "valid_opt_lat = [x for x in opt_lat if x is not None]\n",
        "valid_opt_lng = [x for x in opt_lng if x is not None]\n",
        "\n",
        "# Now calculate the mean\n",
        "if valid_opt_lat and valid_opt_lng:  # Ensure there are valid values to calculate the mean\n",
        "    lat = st.mean(valid_opt_lat)\n",
        "    lng = st.mean(valid_opt_lng)\n",
        "else:\n",
        "    lat, lng = None, None  # Handle the case where there are no valid values"
      ]
    },
    {
      "cell_type": "code",
      "execution_count": 57,
      "metadata": {
        "id": "zn_r6Hs54gSw"
      },
      "outputs": [],
      "source": [
        "result=-1\n",
        "j=0\n",
        "for i in check_list:\n",
        "    result=business.find(i)\n",
        "    if result!=-1:\n",
        "        business=new_check_list[j]\n",
        "    j=j+1"
      ]
    },
    {
      "cell_type": "markdown",
      "metadata": {
        "id": "w4Am11Yn4gSw"
      },
      "source": [
        "The support vector machine classification algorithm is applied to predict the category of the business or venue given as input by the user."
      ]
    },
    {
      "cell_type": "code",
      "execution_count": 58,
      "metadata": {
        "id": "A85tKKZ_4gSw"
      },
      "outputs": [],
      "source": [
        "if len(clustered_name) > 1:\n",
        "    un1=''\n",
        "    un2=''\n",
        "    row = [(un1,un2,business,lat,lng)]\n",
        "\n",
        "    row = pd.DataFrame(row, columns = ['cluster', 'name', 'categories', 'lat', 'lng'])\n",
        "\n",
        "    feature = pd.DataFrame()\n",
        "    feature = pd.concat([feature,pd.get_dummies(nearby_venues['categories'])], axis=1)\n",
        "    x = preprocessing.StandardScaler().fit(feature).transform(feature)\n",
        "    y = nearby_venues['cluster']\n",
        "\n",
        "    from sklearn.model_selection import train_test_split\n",
        "    x_train, x_test, y_train, y_test = train_test_split( x, y, test_size=0.0, random_state=4)\n",
        "\n",
        "    from sklearn import svm\n",
        "    SVM = svm.SVC()\n",
        "    SVM.fit(x_train, y_train)\n",
        "\n",
        "    flag=0\n",
        "    predicted_cluster=-1\n",
        "    for i in nearby_venues['categories'].values:\n",
        "        if i==business:\n",
        "            flag=1\n",
        "    if flag==1:\n",
        "        nearby_venues=nearby_venues.append(row,ignore_index=True)\n",
        "        feature = pd.DataFrame()\n",
        "        feature = pd.concat([feature,pd.get_dummies(nearby_venues['categories'])], axis=1)\n",
        "        x = preprocessing.StandardScaler().fit(feature).transform(feature)\n",
        "        svm_predict = SVM.predict(x)\n",
        "        array_length = len(svm_predict)\n",
        "        last_element = svm_predict[array_length - 1]\n",
        "        predicted_cluster=(int)(last_element)\n",
        "    if final==1 and flag==0:\n",
        "        predicted_cluster=0"
      ]
    },
    {
      "cell_type": "markdown",
      "metadata": {
        "id": "3d05Xk6Z4gSw"
      },
      "source": [
        "Required markers are added to the folium map i.e the new coordinates."
      ]
    },
    {
      "cell_type": "code",
      "execution_count": 59,
      "metadata": {
        "colab": {
          "base_uri": "https://localhost:8080/"
        },
        "id": "LFDjJ_d84gSw",
        "outputId": "770cda89-3d3a-48a9-af6d-dd5d6c9ff15a"
      },
      "outputs": [
        {
          "output_type": "execute_result",
          "data": {
            "text/plain": [
              "<folium.map.Marker at 0x7d4495253430>"
            ]
          },
          "metadata": {},
          "execution_count": 59
        }
      ],
      "source": [
        "folium.Marker(\n",
        "    location=[lat,lng],\n",
        "    icon=folium.Icon(icon='cloud')\n",
        ").add_to(map_clusters)"
      ]
    },
    {
      "cell_type": "markdown",
      "metadata": {
        "id": "VVOaHMYU4gSw"
      },
      "source": [
        "The result is a folium map with the popup being the required coordinates of the location where the business or the venue could be possibly set up, along with the following information derived from various input taken from the user."
      ]
    },
    {
      "cell_type": "code",
      "execution_count": 60,
      "metadata": {
        "scrolled": false,
        "colab": {
          "base_uri": "https://localhost:8080/",
          "height": 712
        },
        "id": "vW25MwQ14gSw",
        "outputId": "48a28263-2a31-4de2-fba9-eb360b493812"
      },
      "outputs": [
        {
          "output_type": "stream",
          "name": "stdout",
          "text": [
            "Major categories in California are -->\n",
            "\n",
            "Miscellaneous : 100%\n",
            "\n",
            "The kind of business you are trying to open falls into the one and only Miscellaneous category. Based on the data you have provided to us, we recommend you to set up your business within 1 km radius of the popup marked on the map given below.\n",
            "Popup coordinates --> Latitude : 0  Longitude : 0\n"
          ]
        },
        {
          "output_type": "execute_result",
          "data": {
            "text/plain": [
              "<folium.folium.Map at 0x7d4494bde530>"
            ],
            "text/html": [
              "<div style=\"width:100%;\"><div style=\"position:relative;width:100%;height:0;padding-bottom:60%;\"><span style=\"color:#565656\">Make this Notebook Trusted to load map: File -> Trust Notebook</span><iframe srcdoc=\"&lt;!DOCTYPE html&gt;\n",
              "&lt;html&gt;\n",
              "&lt;head&gt;\n",
              "    \n",
              "    &lt;meta http-equiv=&quot;content-type&quot; content=&quot;text/html; charset=UTF-8&quot; /&gt;\n",
              "    \n",
              "        &lt;script&gt;\n",
              "            L_NO_TOUCH = false;\n",
              "            L_DISABLE_3D = false;\n",
              "        &lt;/script&gt;\n",
              "    \n",
              "    &lt;style&gt;html, body {width: 100%;height: 100%;margin: 0;padding: 0;}&lt;/style&gt;\n",
              "    &lt;style&gt;#map {position:absolute;top:0;bottom:0;right:0;left:0;}&lt;/style&gt;\n",
              "    &lt;script src=&quot;https://cdn.jsdelivr.net/npm/leaflet@1.9.3/dist/leaflet.js&quot;&gt;&lt;/script&gt;\n",
              "    &lt;script src=&quot;https://code.jquery.com/jquery-3.7.1.min.js&quot;&gt;&lt;/script&gt;\n",
              "    &lt;script src=&quot;https://cdn.jsdelivr.net/npm/bootstrap@5.2.2/dist/js/bootstrap.bundle.min.js&quot;&gt;&lt;/script&gt;\n",
              "    &lt;script src=&quot;https://cdnjs.cloudflare.com/ajax/libs/Leaflet.awesome-markers/2.0.2/leaflet.awesome-markers.js&quot;&gt;&lt;/script&gt;\n",
              "    &lt;link rel=&quot;stylesheet&quot; href=&quot;https://cdn.jsdelivr.net/npm/leaflet@1.9.3/dist/leaflet.css&quot;/&gt;\n",
              "    &lt;link rel=&quot;stylesheet&quot; href=&quot;https://cdn.jsdelivr.net/npm/bootstrap@5.2.2/dist/css/bootstrap.min.css&quot;/&gt;\n",
              "    &lt;link rel=&quot;stylesheet&quot; href=&quot;https://netdna.bootstrapcdn.com/bootstrap/3.0.0/css/bootstrap-glyphicons.css&quot;/&gt;\n",
              "    &lt;link rel=&quot;stylesheet&quot; href=&quot;https://cdn.jsdelivr.net/npm/@fortawesome/fontawesome-free@6.2.0/css/all.min.css&quot;/&gt;\n",
              "    &lt;link rel=&quot;stylesheet&quot; href=&quot;https://cdnjs.cloudflare.com/ajax/libs/Leaflet.awesome-markers/2.0.2/leaflet.awesome-markers.css&quot;/&gt;\n",
              "    &lt;link rel=&quot;stylesheet&quot; href=&quot;https://cdn.jsdelivr.net/gh/python-visualization/folium/folium/templates/leaflet.awesome.rotate.min.css&quot;/&gt;\n",
              "    \n",
              "            &lt;meta name=&quot;viewport&quot; content=&quot;width=device-width,\n",
              "                initial-scale=1.0, maximum-scale=1.0, user-scalable=no&quot; /&gt;\n",
              "            &lt;style&gt;\n",
              "                #map_6ac29c65f180273791d7e0dde7c019e9 {\n",
              "                    position: relative;\n",
              "                    width: 100.0%;\n",
              "                    height: 100.0%;\n",
              "                    left: 0.0%;\n",
              "                    top: 0.0%;\n",
              "                }\n",
              "                .leaflet-container { font-size: 1rem; }\n",
              "            &lt;/style&gt;\n",
              "        \n",
              "&lt;/head&gt;\n",
              "&lt;body&gt;\n",
              "    \n",
              "    \n",
              "            &lt;div class=&quot;folium-map&quot; id=&quot;map_6ac29c65f180273791d7e0dde7c019e9&quot; &gt;&lt;/div&gt;\n",
              "        \n",
              "&lt;/body&gt;\n",
              "&lt;script&gt;\n",
              "    \n",
              "    \n",
              "            var map_6ac29c65f180273791d7e0dde7c019e9 = L.map(\n",
              "                &quot;map_6ac29c65f180273791d7e0dde7c019e9&quot;,\n",
              "                {\n",
              "                    center: [36.7014631, -118.755997],\n",
              "                    crs: L.CRS.EPSG3857,\n",
              "                    zoom: 11,\n",
              "                    zoomControl: true,\n",
              "                    preferCanvas: false,\n",
              "                }\n",
              "            );\n",
              "\n",
              "            \n",
              "\n",
              "        \n",
              "    \n",
              "            var tile_layer_71d02c689e06c2f02c732f7049d5d667 = L.tileLayer(\n",
              "                &quot;https://tile.openstreetmap.org/{z}/{x}/{y}.png&quot;,\n",
              "                {&quot;attribution&quot;: &quot;\\u0026copy; \\u003ca href=\\&quot;https://www.openstreetmap.org/copyright\\&quot;\\u003eOpenStreetMap\\u003c/a\\u003e contributors&quot;, &quot;detectRetina&quot;: false, &quot;maxNativeZoom&quot;: 19, &quot;maxZoom&quot;: 19, &quot;minZoom&quot;: 0, &quot;noWrap&quot;: false, &quot;opacity&quot;: 1, &quot;subdomains&quot;: &quot;abc&quot;, &quot;tms&quot;: false}\n",
              "            );\n",
              "        \n",
              "    \n",
              "            tile_layer_71d02c689e06c2f02c732f7049d5d667.addTo(map_6ac29c65f180273791d7e0dde7c019e9);\n",
              "        \n",
              "    \n",
              "            var circle_marker_bf60bd75d3aa7aa77a6ae9b8c977d998 = L.circleMarker(\n",
              "                [36.70324671401083, -118.79829883575438],\n",
              "                {&quot;bubblingMouseEvents&quot;: true, &quot;color&quot;: &quot;#8000ff&quot;, &quot;dashArray&quot;: null, &quot;dashOffset&quot;: null, &quot;fill&quot;: true, &quot;fillColor&quot;: &quot;#8000ff&quot;, &quot;fillOpacity&quot;: 0.7, &quot;fillRule&quot;: &quot;evenodd&quot;, &quot;lineCap&quot;: &quot;round&quot;, &quot;lineJoin&quot;: &quot;round&quot;, &quot;opacity&quot;: 1.0, &quot;radius&quot;: 5, &quot;stroke&quot;: true, &quot;weight&quot;: 3}\n",
              "            ).addTo(map_6ac29c65f180273791d7e0dde7c019e9);\n",
              "        \n",
              "    \n",
              "        var popup_b661cebe1bd0669e776dceb8dfbdfad4 = L.popup({&quot;maxWidth&quot;: &quot;100%&quot;});\n",
              "\n",
              "        \n",
              "            \n",
              "                var html_0d77c6482bdc2182a7a50ea8b529dac7 = $(`&lt;div id=&quot;html_0d77c6482bdc2182a7a50ea8b529dac7&quot; style=&quot;width: 100.0%; height: 100.0%;&quot;&gt; Cluster 0:  Weaver Lake&lt;/div&gt;`)[0];\n",
              "                popup_b661cebe1bd0669e776dceb8dfbdfad4.setContent(html_0d77c6482bdc2182a7a50ea8b529dac7);\n",
              "            \n",
              "        \n",
              "\n",
              "        circle_marker_bf60bd75d3aa7aa77a6ae9b8c977d998.bindPopup(popup_b661cebe1bd0669e776dceb8dfbdfad4)\n",
              "        ;\n",
              "\n",
              "        \n",
              "    \n",
              "    \n",
              "            var circle_marker_11b053eccd76be89423e615b138ff2c6 = L.circleMarker(\n",
              "                [36.740855, -118.730227],\n",
              "                {&quot;bubblingMouseEvents&quot;: true, &quot;color&quot;: &quot;#8000ff&quot;, &quot;dashArray&quot;: null, &quot;dashOffset&quot;: null, &quot;fill&quot;: true, &quot;fillColor&quot;: &quot;#8000ff&quot;, &quot;fillOpacity&quot;: 0.7, &quot;fillRule&quot;: &quot;evenodd&quot;, &quot;lineCap&quot;: &quot;round&quot;, &quot;lineJoin&quot;: &quot;round&quot;, &quot;opacity&quot;: 1.0, &quot;radius&quot;: 5, &quot;stroke&quot;: true, &quot;weight&quot;: 3}\n",
              "            ).addTo(map_6ac29c65f180273791d7e0dde7c019e9);\n",
              "        \n",
              "    \n",
              "        var popup_037ba39400e90a596571f4a80cfea5c7 = L.popup({&quot;maxWidth&quot;: &quot;100%&quot;});\n",
              "\n",
              "        \n",
              "            \n",
              "                var html_0b8ae9021310d055e2a583341146a12f = $(`&lt;div id=&quot;html_0b8ae9021310d055e2a583341146a12f&quot; style=&quot;width: 100.0%; height: 100.0%;&quot;&gt; Cluster 0:  Sequoia High Sierra Camp&lt;/div&gt;`)[0];\n",
              "                popup_037ba39400e90a596571f4a80cfea5c7.setContent(html_0b8ae9021310d055e2a583341146a12f);\n",
              "            \n",
              "        \n",
              "\n",
              "        circle_marker_11b053eccd76be89423e615b138ff2c6.bindPopup(popup_037ba39400e90a596571f4a80cfea5c7)\n",
              "        ;\n",
              "\n",
              "        \n",
              "    \n",
              "    \n",
              "            var circle_marker_80c5082a725a61031db4a39c2bb031d4 = L.circleMarker(\n",
              "                [36.732183, -118.715229],\n",
              "                {&quot;bubblingMouseEvents&quot;: true, &quot;color&quot;: &quot;#8000ff&quot;, &quot;dashArray&quot;: null, &quot;dashOffset&quot;: null, &quot;fill&quot;: true, &quot;fillColor&quot;: &quot;#8000ff&quot;, &quot;fillOpacity&quot;: 0.7, &quot;fillRule&quot;: &quot;evenodd&quot;, &quot;lineCap&quot;: &quot;round&quot;, &quot;lineJoin&quot;: &quot;round&quot;, &quot;opacity&quot;: 1.0, &quot;radius&quot;: 5, &quot;stroke&quot;: true, &quot;weight&quot;: 3}\n",
              "            ).addTo(map_6ac29c65f180273791d7e0dde7c019e9);\n",
              "        \n",
              "    \n",
              "        var popup_03959a9420b952fd29ec8513907f2576 = L.popup({&quot;maxWidth&quot;: &quot;100%&quot;});\n",
              "\n",
              "        \n",
              "            \n",
              "                var html_6764928e4f033a0a0c1301dbf8843129 = $(`&lt;div id=&quot;html_6764928e4f033a0a0c1301dbf8843129&quot; style=&quot;width: 100.0%; height: 100.0%;&quot;&gt; Cluster 0:  Mitchell Peak&lt;/div&gt;`)[0];\n",
              "                popup_03959a9420b952fd29ec8513907f2576.setContent(html_6764928e4f033a0a0c1301dbf8843129);\n",
              "            \n",
              "        \n",
              "\n",
              "        circle_marker_80c5082a725a61031db4a39c2bb031d4.bindPopup(popup_03959a9420b952fd29ec8513907f2576)\n",
              "        ;\n",
              "\n",
              "        \n",
              "    \n",
              "    \n",
              "            var marker_01bb6d190ec2de7f303b51559aadfdfe = L.marker(\n",
              "                [0.0, 0.0],\n",
              "                {}\n",
              "            ).addTo(map_6ac29c65f180273791d7e0dde7c019e9);\n",
              "        \n",
              "    \n",
              "            var icon_88acdbaca140266a717179f0bf316c7b = L.AwesomeMarkers.icon(\n",
              "                {&quot;extraClasses&quot;: &quot;fa-rotate-0&quot;, &quot;icon&quot;: &quot;cloud&quot;, &quot;iconColor&quot;: &quot;white&quot;, &quot;markerColor&quot;: &quot;blue&quot;, &quot;prefix&quot;: &quot;glyphicon&quot;}\n",
              "            );\n",
              "            marker_01bb6d190ec2de7f303b51559aadfdfe.setIcon(icon_88acdbaca140266a717179f0bf316c7b);\n",
              "        \n",
              "&lt;/script&gt;\n",
              "&lt;/html&gt;\" style=\"position:absolute;width:100%;height:100%;left:0;top:0;border:none !important;\" allowfullscreen webkitallowfullscreen mozallowfullscreen></iframe></div></div>"
            ]
          },
          "metadata": {},
          "execution_count": 60
        }
      ],
      "source": [
        "print('Major categories in ' + entry + ' are -->')\n",
        "print()\n",
        "for (i,j) in (zip(clustered_name,clustered_percent)):\n",
        "    print((str)(i) + ' : ' + (str)(j) + '%')\n",
        "print()\n",
        "if len(clustered_name) > 1:\n",
        "    if flag==0 and final==0:\n",
        "        print('Your business does not fall into any category we have made. This is a new type of business you are trying to open which is almost not present in the location you have provided. This significantly boosts the chances of you being successful in your business. Based on the data you have provided to us, we recommend you to set up your business within 1 km radius of the popup marked on the map given below.')\n",
        "    else:\n",
        "        print('The kind of business you are trying to open falls into the ' + (str)(clustered_percent[predicted_cluster]) + '% ' + (str)(clustered_name[predicted_cluster]) + ' category. Based on the data you have provided to us, we recommend you to set up your business within 1 km radius of the popup marked on the map given below.')\n",
        "    print('Popup coordinates --> Latitude : ' + (str)(lat) + '  Longitude : ' + (str)(lng))\n",
        "if len(clustered_name) == 1:\n",
        "    print('The kind of business you are trying to open falls into the one and only ' + (str)(clustered_name[0]) + ' category. Based on the data you have provided to us, we recommend you to set up your business within 1 km radius of the popup marked on the map given below.')\n",
        "    print('Popup coordinates --> Latitude : ' + (str)(lat) + '  Longitude : ' + (str)(lng))\n",
        "map_clusters"
      ]
    },
    {
      "cell_type": "code",
      "execution_count": null,
      "metadata": {
        "id": "ffq3WcWz4gSw"
      },
      "outputs": [],
      "source": []
    }
  ],
  "metadata": {
    "kernelspec": {
      "display_name": "Python 3",
      "language": "python",
      "name": "python3"
    },
    "language_info": {
      "codemirror_mode": {
        "name": "ipython",
        "version": 3
      },
      "file_extension": ".py",
      "mimetype": "text/x-python",
      "name": "python",
      "nbconvert_exporter": "python",
      "pygments_lexer": "ipython3",
      "version": "3.7.1"
    },
    "colab": {
      "provenance": []
    }
  },
  "nbformat": 4,
  "nbformat_minor": 0
}