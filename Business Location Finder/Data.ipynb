{
 "cells": [
  {
   "cell_type": "markdown",
   "metadata": {},
   "source": [
    "No other sources or API's have been used in this project except the Foursquare API. The list of options to choose from has been made into a csv file named 'categories' by accumulating various venue categories of different mega cities across the world. The data from user input has also been collected using the Foursquare API. The API call returns a json file which is then normalized and converted into a dataframe. Only the 'categories' column is extracted and worked upon. No data retrieving task was done using the internet or local drives following the API call request. "
   ]
  }
 ],
 "metadata": {
  "kernelspec": {
   "display_name": "Python 3",
   "language": "python",
   "name": "python3"
  },
  "language_info": {
   "codemirror_mode": {
    "name": "ipython",
    "version": 3
   },
   "file_extension": ".py",
   "mimetype": "text/x-python",
   "name": "python",
   "nbconvert_exporter": "python",
   "pygments_lexer": "ipython3",
   "version": "3.7.1"
  }
 },
 "nbformat": 4,
 "nbformat_minor": 2
}
