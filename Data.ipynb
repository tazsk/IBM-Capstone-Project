{
 "cells": [
  {
   "cell_type": "markdown",
   "metadata": {},
   "source": [
    "No other sources or API's have been used in this project except the Foursquare API. The list of options to choose from has been made into a csv file named 'categories' by accumulating various venue categories of different mega cities across the world. The data from user input has also been collected using the Foursquare API. The API call returns a json file which is then normalized and converted into a dataframe. There are several columns such as 'venue.categories' , 'venue.location.address', 'venue.location.city', 'venue.location.country', 'venue.location.lat', 'venue.location.lng',etc. The columns initially extracted are 'venue.categories', 'venue.location.lat', 'venue.location.lng' and renamed as 'categories', 'lat', and 'lng' respectively. The 'categories' column consists of the various venue categories present in the town/city. The columns 'lat' and 'lng' consists of the latitudes and the longitudes of the venue categories respectively. Finally, only the 'categories' column is extracted and worked upon. No data retrieving task was done using the internet or local drives following the API call request. "
   ]
  },
  {
   "cell_type": "code",
   "execution_count": null,
   "metadata": {},
   "outputs": [],
   "source": []
  }
 ],
 "metadata": {
  "kernelspec": {
   "display_name": "Python 3",
   "language": "python",
   "name": "python3"
  },
  "language_info": {
   "codemirror_mode": {
    "name": "ipython",
    "version": 3
   },
   "file_extension": ".py",
   "mimetype": "text/x-python",
   "name": "python",
   "nbconvert_exporter": "python",
   "pygments_lexer": "ipython3",
   "version": "3.7.1"
  }
 },
 "nbformat": 4,
 "nbformat_minor": 2
}
