{
 "cells": [
  {
   "cell_type": "markdown",
   "metadata": {},
   "source": [
    "All the required libraries are imported."
   ]
  },
  {
   "cell_type": "code",
   "execution_count": 82,
   "metadata": {},
   "outputs": [],
   "source": [
    "import numpy as np\n",
    "import pandas as pd\n",
    "import urllib\n",
    "import math\n",
    "import statistics as st\n",
    "from sklearn import preprocessing\n",
    "\n",
    "import requests\n",
    "from pandas.io.json import json_normalize\n",
    "import json\n",
    "\n",
    "from geopy.geocoders import Nominatim\n",
    "\n",
    "import folium\n",
    "import matplotlib.cm as cm\n",
    "import matplotlib.colors as colors\n",
    "import matplotlib.pyplot as plt\n",
    "\n",
    "from sklearn.cluster import KMeans"
   ]
  },
  {
   "cell_type": "markdown",
   "metadata": {},
   "source": [
    "The name of the town/city and the type of business or recreational venue is taken as input. The user can select a business type and has a list of options to choose from."
   ]
  },
  {
   "cell_type": "code",
   "execution_count": 83,
   "metadata": {},
   "outputs": [
    {
     "name": "stdout",
     "output_type": "stream",
     "text": [
      "Enter name of city/town along with state or country : Fresno, California\n"
     ]
    }
   ],
   "source": [
    "entry=input(\"Enter name of city/town along with state or country : \")"
   ]
  },
  {
   "cell_type": "code",
   "execution_count": 84,
   "metadata": {},
   "outputs": [],
   "source": [
    "categories=pd.read_csv(r'C:\\Users\\Titas Sarkar\\Desktop\\categories.csv')\n",
    "categories=categories.sort_values('categories')"
   ]
  },
  {
   "cell_type": "code",
   "execution_count": 85,
   "metadata": {},
   "outputs": [
    {
     "name": "stdout",
     "output_type": "stream",
     "text": [
      "Adult Boutique\n",
      "Afghan Restaurant\n",
      "African Restaurant\n",
      "American Restaurant\n",
      "Amphitheater\n",
      "Andhra Restaurant\n",
      "Aquarium\n",
      "Arcade\n",
      "Argentinian Restaurant\n",
      "Art Gallery\n",
      "Arts & Crafts Store\n",
      "Arts & Entertainment\n",
      "Asian Restaurant\n",
      "Athletics & Sports\n",
      "Awadhi Restaurant\n",
      "BBQ Joint\n",
      "Bagel Shop\n",
      "Bakery\n",
      "Bar\n",
      "Baseball Stadium\n",
      "Basketball Stadium\n",
      "Bath House\n",
      "Beach\n",
      "Bed & Breakfast\n",
      "Beer Bar\n",
      "Beer Store\n",
      "Beijing Restaurant\n",
      "Bengali Restaurant\n",
      "Big Box Store\n",
      "Bike Shop\n",
      "Bistro\n",
      "Boat or Ferry\n",
      "Bookstore\n",
      "Boutique\n",
      "Brazilian Restaurant\n",
      "Breakfast Spot\n",
      "Brewery\n",
      "Bridge\n",
      "Bubble Tea Shop\n",
      "Buddhist Temple\n",
      "Building\n",
      "Burger Joint\n",
      "Butcher\n",
      "Cafeteria\n",
      "Café\n",
      "Candy Store\n",
      "Cantonese Restaurant\n",
      "Capitol Building\n",
      "Chaat Place\n",
      "Cheese Shop\n",
      "Chinese Restaurant\n",
      "Chocolate Shop\n",
      "Church\n",
      "Clothing Store\n",
      "Club House\n",
      "Cocktail Bar\n",
      "Coffee Shop\n",
      "Comic Shop\n",
      "Concert Hall\n",
      "Construction & Landscaping\n",
      "Convenience Store\n",
      "Convention Center\n",
      "Cosmetics Shop\n",
      "Cricket Ground\n",
      "Cultural Center\n",
      "Cupcake Shop\n",
      "Cycle Studio\n",
      "Dance Studio\n",
      "Deli , Bodega\n",
      "Dentist's Office\n",
      "Department Store\n",
      "Dessert Shop\n",
      "Dhaba\n",
      "Diner\n",
      "Discount Store\n",
      "Dive Bar\n",
      "Dog Run\n",
      "Donburi Restaurant\n",
      "Donut Shop\n",
      "Dumpling Restaurant\n",
      "Eastern European Restaurant\n",
      "Electronics Store\n",
      "Event Space\n",
      "Exhibit\n",
      "Falafel Restaurant\n",
      "Fast Food Restaurant\n",
      "Field\n",
      "Filipino Restaurant\n",
      "Fish & Chips Shop\n",
      "Flower Shop\n",
      "Food\n",
      "Food & Drink Shop\n",
      "Food Court\n",
      "Food Truck\n",
      "Football Stadium\n",
      "Fountain\n",
      "French Restaurant\n",
      "Fried Chicken Joint\n",
      "Frozen Yogurt Shop\n",
      "Fruit & Vegetable Store\n",
      "Furniture , Home Store\n",
      "Gaming Cafe\n",
      "Garden\n",
      "Gas Station\n",
      "Gastropub\n",
      "General Entertainment\n",
      "German Restaurant\n",
      "Gift Shop\n",
      "Golf Course\n",
      "Gourmet Shop\n",
      "Grocery Store\n",
      "Gym\n",
      "Harbor , Marina\n",
      "Hardware Store\n",
      "Health Food Store\n",
      "Historic Site\n",
      "Hobby Shop\n",
      "Hong Kong Restaurant\n",
      "Hookah Bar\n",
      "Hostel\n",
      "Hot Dog Joint\n",
      "Hot Spring\n",
      "Hotel\n",
      "Hotpot Restaurant\n",
      "Hunan Restaurant\n",
      "Hyderabadi Restaurant\n",
      "Ice Cream Shop\n",
      "Indian Restaurant\n",
      "Indian Sweet Shop\n",
      "Irani Cafe\n",
      "Italian Restaurant\n",
      "Japanese Curry Restaurant\n",
      "Japanese Restaurant\n",
      "Jazz Club\n",
      "Jewelry Store\n",
      "Juice Bar\n",
      "Karnataka Restaurant\n",
      "Kebab Restaurant\n",
      "Korean Restaurant\n",
      "Kushikatsu Restaurant\n",
      "Lake\n",
      "Latin American Restaurant\n",
      "Lebanese Restaurant\n",
      "Library\n",
      "Lighthouse\n",
      "Liquor Store\n",
      "Lounge\n",
      "Maharashtrian Restaurant\n",
      "Marijuana Dispensary\n",
      "Market\n",
      "Massage Studio\n",
      "Mediterranean Restaurant\n",
      "Memorial Site\n",
      "Men's Store\n",
      "Mexican Restaurant\n",
      "Middle Eastern Restaurant\n",
      "Molecular Gastronomy Restaurant\n",
      "Monument , Landmark\n",
      "Mosque\n",
      "Motel\n",
      "Motorcycle Shop\n",
      "Mountain\n",
      "Mughlai Restaurant\n",
      "Multicuisine Indian Restaurant\n",
      "Multiplex\n",
      "Museum\n",
      "Music Venue\n",
      "Nail Salon\n",
      "Neighborhood\n",
      "New American Restaurant\n",
      "Nightclub\n",
      "Non-Profit\n",
      "Noodle House\n",
      "North Indian Restaurant\n",
      "Northeast Indian Restaurant\n",
      "Office\n",
      "Okonomiyaki Restaurant\n",
      "Opera House\n",
      "Optical Shop\n",
      "Organic Grocery\n",
      "Other Great Outdoors\n",
      "Outdoor Sculpture\n",
      "Park\n",
      "Parsi Restaurant\n",
      "Pastelaria\n",
      "Pastry Shop\n",
      "Pedestrian Plaza\n",
      "Peking Duck Restaurant\n",
      "Performing Arts Venue\n",
      "Pet Service\n",
      "Pet Store\n",
      "Pier\n",
      "Pilates Studio\n",
      "Pizza Place\n",
      "Playground\n",
      "Plaza\n",
      "Pool\n",
      "Portuguese Restaurant\n",
      "Post Office\n",
      "Pub\n",
      "Racetrack\n",
      "Ramen Restaurant\n",
      "Record Shop\n",
      "Resort\n",
      "Restaurant\n",
      "Rock Club\n",
      "Roof Deck\n",
      "Russian Restaurant\n",
      "Sake Bar\n",
      "Salad Place\n",
      "Salon , Barbershop\n",
      "Sandwich Place\n",
      "Scandinavian Restaurant\n",
      "Scenic Lookout\n",
      "Seafood Restaurant\n",
      "Shawarma Place\n",
      "Shoe Store\n",
      "Shopping Mall\n",
      "Shopping Plaza\n",
      "Shrine\n",
      "Skating Rink\n",
      "Smoke Shop\n",
      "Smoothie Shop\n",
      "Snack Place\n",
      "Soba Restaurant\n",
      "Soccer Field\n",
      "Soccer Stadium\n",
      "South Indian Restaurant\n",
      "Southern , Soul Food Restaurant\n",
      "Souvlaki Shop\n",
      "Spa\n",
      "Spanish Restaurant\n",
      "Speakeasy\n",
      "Spiritual Center\n",
      "Sporting Goods Shop\n",
      "Sports Bar\n",
      "Sports Club\n",
      "Stadium\n",
      "Stationery Store\n",
      "Steakhouse\n",
      "Street Art\n",
      "Street Food Gathering\n",
      "Sukiyaki Restaurant\n",
      "Sushi Restaurant\n",
      "Swiss Restaurant\n",
      "Szechuan Restaurant\n",
      "Taco Place\n",
      "Taiwanese Restaurant\n",
      "Takoyaki Place\n",
      "Tapas Restaurant\n",
      "Tea Room\n",
      "Temple\n",
      "Tempura Restaurant\n",
      "Tex-Mex Restaurant\n",
      "Thai Restaurant\n",
      "Theatre\n",
      "Theme Restaurant\n",
      "Tibetan Restaurant\n",
      "Tonkatsu Restaurant\n",
      "Tour Provider\n",
      "Toy , Game Store\n",
      "Track\n",
      "Track Stadium\n",
      "Trail\n",
      "Train Station\n",
      "Turkish Restaurant\n",
      "Udon Restaurant\n",
      "Unagi Restaurant\n",
      "Vegetarian , Vegan Restaurant\n",
      "Video Store\n",
      "Vietnamese Restaurant\n",
      "Volleyball Court\n",
      "Wagashi Place\n",
      "Waterfront\n",
      "Wine Bar\n",
      "Wine Shop\n",
      "Women's Store\n",
      "Xinjiang Restaurant\n",
      "Yakitori Restaurant\n",
      "Yemeni Restaurant\n",
      "Yoga Studio\n",
      "Yoshoku Restaurant\n",
      "Yunnan Restaurant\n",
      "Zhejiang Restaurant\n",
      "Zoo\n"
     ]
    }
   ],
   "source": [
    "for i in categories['categories'].values:\n",
    "    print(i)"
   ]
  },
  {
   "cell_type": "code",
   "execution_count": 86,
   "metadata": {},
   "outputs": [
    {
     "name": "stdout",
     "output_type": "stream",
     "text": [
      "Select the type of business you are currently planning to open. Choose from the list given above : Asian Restaurant\n"
     ]
    }
   ],
   "source": [
    "business=input('Select the type of business you are currently planning to open. Choose from the list given above : ')"
   ]
  },
  {
   "cell_type": "markdown",
   "metadata": {},
   "source": [
    "The required parameters are arranged to make a Foursquare API call."
   ]
  },
  {
   "cell_type": "code",
   "execution_count": 87,
   "metadata": {},
   "outputs": [],
   "source": [
    "address = entry\n",
    "\n",
    "geolocator = Nominatim(user_agent=\"coursera-capstone-project\")\n",
    "location = geolocator.geocode(address)\n",
    "latitude = location.latitude\n",
    "longitude = location.longitude"
   ]
  },
  {
   "cell_type": "code",
   "execution_count": 88,
   "metadata": {},
   "outputs": [],
   "source": [
    "CLIENT_ID = 'SWWNHHEKWCPEHJKBPCWLGGN5BNKHHKU243TGGEY3MHO4ZK4H'\n",
    "CLIENT_SECRET = '3BTXLQDL404MXO4C2YQEITYN4HC4BR0AD2X5KO5YCCXNPZSR'\n",
    "VERSION = '20180604'\n",
    "LIMIT = 100\n",
    "radius=5000"
   ]
  },
  {
   "cell_type": "code",
   "execution_count": 89,
   "metadata": {},
   "outputs": [],
   "source": [
    "url = 'https://api.foursquare.com/v2/venues/explore?&client_id={}&client_secret={}&v={}&ll={},{}&radius={}&limit={}'.format(\n",
    "    CLIENT_ID, \n",
    "    CLIENT_SECRET, \n",
    "    VERSION, \n",
    "    latitude, \n",
    "    longitude, \n",
    "    radius, \n",
    "    LIMIT)"
   ]
  },
  {
   "cell_type": "markdown",
   "metadata": {},
   "source": [
    "The call returns a json file which is stored in a variable."
   ]
  },
  {
   "cell_type": "code",
   "execution_count": 90,
   "metadata": {},
   "outputs": [],
   "source": [
    "results = requests.get(url).json()"
   ]
  },
  {
   "cell_type": "markdown",
   "metadata": {},
   "source": [
    "Only the 'items' are taken from the json file."
   ]
  },
  {
   "cell_type": "code",
   "execution_count": 91,
   "metadata": {},
   "outputs": [],
   "source": [
    "items = results['response']['groups'][0]['items']"
   ]
  },
  {
   "cell_type": "markdown",
   "metadata": {},
   "source": [
    "The json file is normalized and converted into a dataframe."
   ]
  },
  {
   "cell_type": "code",
   "execution_count": 92,
   "metadata": {},
   "outputs": [
    {
     "data": {
      "text/html": [
       "<div>\n",
       "<style scoped>\n",
       "    .dataframe tbody tr th:only-of-type {\n",
       "        vertical-align: middle;\n",
       "    }\n",
       "\n",
       "    .dataframe tbody tr th {\n",
       "        vertical-align: top;\n",
       "    }\n",
       "\n",
       "    .dataframe thead th {\n",
       "        text-align: right;\n",
       "    }\n",
       "</style>\n",
       "<table border=\"1\" class=\"dataframe\">\n",
       "  <thead>\n",
       "    <tr style=\"text-align: right;\">\n",
       "      <th></th>\n",
       "      <th>reasons.count</th>\n",
       "      <th>reasons.items</th>\n",
       "      <th>referralId</th>\n",
       "      <th>venue.categories</th>\n",
       "      <th>venue.delivery.id</th>\n",
       "      <th>venue.delivery.provider.icon.name</th>\n",
       "      <th>venue.delivery.provider.icon.prefix</th>\n",
       "      <th>venue.delivery.provider.icon.sizes</th>\n",
       "      <th>venue.delivery.provider.name</th>\n",
       "      <th>venue.delivery.url</th>\n",
       "      <th>...</th>\n",
       "      <th>venue.location.labeledLatLngs</th>\n",
       "      <th>venue.location.lat</th>\n",
       "      <th>venue.location.lng</th>\n",
       "      <th>venue.location.neighborhood</th>\n",
       "      <th>venue.location.postalCode</th>\n",
       "      <th>venue.location.state</th>\n",
       "      <th>venue.name</th>\n",
       "      <th>venue.photos.count</th>\n",
       "      <th>venue.photos.groups</th>\n",
       "      <th>venue.venuePage.id</th>\n",
       "    </tr>\n",
       "  </thead>\n",
       "  <tbody>\n",
       "    <tr>\n",
       "      <th>0</th>\n",
       "      <td>0</td>\n",
       "      <td>[{'summary': 'This spot is popular', 'type': '...</td>\n",
       "      <td>e-0-4bbf84aff8219c744d1db010-0</td>\n",
       "      <td>[{'id': '4bf58dd8d48988d1c1941735', 'name': 'M...</td>\n",
       "      <td>NaN</td>\n",
       "      <td>NaN</td>\n",
       "      <td>NaN</td>\n",
       "      <td>NaN</td>\n",
       "      <td>NaN</td>\n",
       "      <td>NaN</td>\n",
       "      <td>...</td>\n",
       "      <td>[{'label': 'display', 'lat': 36.73520975345603...</td>\n",
       "      <td>36.735210</td>\n",
       "      <td>-119.731683</td>\n",
       "      <td>NaN</td>\n",
       "      <td>93727</td>\n",
       "      <td>CA</td>\n",
       "      <td>Los Panchos</td>\n",
       "      <td>0</td>\n",
       "      <td>[]</td>\n",
       "      <td>NaN</td>\n",
       "    </tr>\n",
       "    <tr>\n",
       "      <th>1</th>\n",
       "      <td>0</td>\n",
       "      <td>[{'summary': 'This spot is popular', 'type': '...</td>\n",
       "      <td>e-0-4b771938f964a520387d2ee3-1</td>\n",
       "      <td>[{'id': '4bf58dd8d48988d1c5941735', 'name': 'S...</td>\n",
       "      <td>NaN</td>\n",
       "      <td>NaN</td>\n",
       "      <td>NaN</td>\n",
       "      <td>NaN</td>\n",
       "      <td>NaN</td>\n",
       "      <td>NaN</td>\n",
       "      <td>...</td>\n",
       "      <td>[{'label': 'display', 'lat': 36.73646547723637...</td>\n",
       "      <td>36.736465</td>\n",
       "      <td>-119.694362</td>\n",
       "      <td>NaN</td>\n",
       "      <td>93727</td>\n",
       "      <td>CA</td>\n",
       "      <td>Sunnyside Deli</td>\n",
       "      <td>0</td>\n",
       "      <td>[]</td>\n",
       "      <td>NaN</td>\n",
       "    </tr>\n",
       "    <tr>\n",
       "      <th>2</th>\n",
       "      <td>0</td>\n",
       "      <td>[{'summary': 'This spot is popular', 'type': '...</td>\n",
       "      <td>e-0-4dcda119b0fb25f6e32f44a2-2</td>\n",
       "      <td>[{'id': '4bf58dd8d48988d121941735', 'name': 'L...</td>\n",
       "      <td>NaN</td>\n",
       "      <td>NaN</td>\n",
       "      <td>NaN</td>\n",
       "      <td>NaN</td>\n",
       "      <td>NaN</td>\n",
       "      <td>NaN</td>\n",
       "      <td>...</td>\n",
       "      <td>[{'label': 'display', 'lat': 36.73655874130699...</td>\n",
       "      <td>36.736559</td>\n",
       "      <td>-119.694835</td>\n",
       "      <td>NaN</td>\n",
       "      <td>93727</td>\n",
       "      <td>CA</td>\n",
       "      <td>O'Sullivan's Sunnyside Lounge</td>\n",
       "      <td>0</td>\n",
       "      <td>[]</td>\n",
       "      <td>NaN</td>\n",
       "    </tr>\n",
       "    <tr>\n",
       "      <th>3</th>\n",
       "      <td>0</td>\n",
       "      <td>[{'summary': 'This spot is popular', 'type': '...</td>\n",
       "      <td>e-0-4bd4b3356f64952196f16dec-3</td>\n",
       "      <td>[{'id': '4bf58dd8d48988d16e941735', 'name': 'F...</td>\n",
       "      <td>1682806</td>\n",
       "      <td>/delivery_provider_grubhub_20180129.png</td>\n",
       "      <td>https://fastly.4sqi.net/img/general/cap/</td>\n",
       "      <td>[40, 50]</td>\n",
       "      <td>grubhub</td>\n",
       "      <td>https://www.grubhub.com/restaurant/wendys-765-...</td>\n",
       "      <td>...</td>\n",
       "      <td>[{'label': 'display', 'lat': 36.7350852, 'lng'...</td>\n",
       "      <td>36.735085</td>\n",
       "      <td>-119.699654</td>\n",
       "      <td>NaN</td>\n",
       "      <td>93727</td>\n",
       "      <td>CA</td>\n",
       "      <td>Wendy’s</td>\n",
       "      <td>0</td>\n",
       "      <td>[]</td>\n",
       "      <td>NaN</td>\n",
       "    </tr>\n",
       "    <tr>\n",
       "      <th>4</th>\n",
       "      <td>0</td>\n",
       "      <td>[{'summary': 'This spot is popular', 'type': '...</td>\n",
       "      <td>e-0-4b91b9ecf964a520f4d233e3-4</td>\n",
       "      <td>[{'id': '4bf58dd8d48988d145941735', 'name': 'C...</td>\n",
       "      <td>NaN</td>\n",
       "      <td>NaN</td>\n",
       "      <td>NaN</td>\n",
       "      <td>NaN</td>\n",
       "      <td>NaN</td>\n",
       "      <td>NaN</td>\n",
       "      <td>...</td>\n",
       "      <td>[{'label': 'display', 'lat': 36.73672804808641...</td>\n",
       "      <td>36.736728</td>\n",
       "      <td>-119.698916</td>\n",
       "      <td>NaN</td>\n",
       "      <td>93727</td>\n",
       "      <td>CA</td>\n",
       "      <td>Sunrise Kitchen</td>\n",
       "      <td>0</td>\n",
       "      <td>[]</td>\n",
       "      <td>NaN</td>\n",
       "    </tr>\n",
       "  </tbody>\n",
       "</table>\n",
       "<p>5 rows × 28 columns</p>\n",
       "</div>"
      ],
      "text/plain": [
       "   reasons.count                                      reasons.items  \\\n",
       "0              0  [{'summary': 'This spot is popular', 'type': '...   \n",
       "1              0  [{'summary': 'This spot is popular', 'type': '...   \n",
       "2              0  [{'summary': 'This spot is popular', 'type': '...   \n",
       "3              0  [{'summary': 'This spot is popular', 'type': '...   \n",
       "4              0  [{'summary': 'This spot is popular', 'type': '...   \n",
       "\n",
       "                       referralId  \\\n",
       "0  e-0-4bbf84aff8219c744d1db010-0   \n",
       "1  e-0-4b771938f964a520387d2ee3-1   \n",
       "2  e-0-4dcda119b0fb25f6e32f44a2-2   \n",
       "3  e-0-4bd4b3356f64952196f16dec-3   \n",
       "4  e-0-4b91b9ecf964a520f4d233e3-4   \n",
       "\n",
       "                                    venue.categories venue.delivery.id  \\\n",
       "0  [{'id': '4bf58dd8d48988d1c1941735', 'name': 'M...               NaN   \n",
       "1  [{'id': '4bf58dd8d48988d1c5941735', 'name': 'S...               NaN   \n",
       "2  [{'id': '4bf58dd8d48988d121941735', 'name': 'L...               NaN   \n",
       "3  [{'id': '4bf58dd8d48988d16e941735', 'name': 'F...           1682806   \n",
       "4  [{'id': '4bf58dd8d48988d145941735', 'name': 'C...               NaN   \n",
       "\n",
       "         venue.delivery.provider.icon.name  \\\n",
       "0                                      NaN   \n",
       "1                                      NaN   \n",
       "2                                      NaN   \n",
       "3  /delivery_provider_grubhub_20180129.png   \n",
       "4                                      NaN   \n",
       "\n",
       "        venue.delivery.provider.icon.prefix  \\\n",
       "0                                       NaN   \n",
       "1                                       NaN   \n",
       "2                                       NaN   \n",
       "3  https://fastly.4sqi.net/img/general/cap/   \n",
       "4                                       NaN   \n",
       "\n",
       "  venue.delivery.provider.icon.sizes venue.delivery.provider.name  \\\n",
       "0                                NaN                          NaN   \n",
       "1                                NaN                          NaN   \n",
       "2                                NaN                          NaN   \n",
       "3                           [40, 50]                      grubhub   \n",
       "4                                NaN                          NaN   \n",
       "\n",
       "                                  venue.delivery.url         ...          \\\n",
       "0                                                NaN         ...           \n",
       "1                                                NaN         ...           \n",
       "2                                                NaN         ...           \n",
       "3  https://www.grubhub.com/restaurant/wendys-765-...         ...           \n",
       "4                                                NaN         ...           \n",
       "\n",
       "                       venue.location.labeledLatLngs venue.location.lat  \\\n",
       "0  [{'label': 'display', 'lat': 36.73520975345603...          36.735210   \n",
       "1  [{'label': 'display', 'lat': 36.73646547723637...          36.736465   \n",
       "2  [{'label': 'display', 'lat': 36.73655874130699...          36.736559   \n",
       "3  [{'label': 'display', 'lat': 36.7350852, 'lng'...          36.735085   \n",
       "4  [{'label': 'display', 'lat': 36.73672804808641...          36.736728   \n",
       "\n",
       "  venue.location.lng venue.location.neighborhood venue.location.postalCode  \\\n",
       "0        -119.731683                         NaN                     93727   \n",
       "1        -119.694362                         NaN                     93727   \n",
       "2        -119.694835                         NaN                     93727   \n",
       "3        -119.699654                         NaN                     93727   \n",
       "4        -119.698916                         NaN                     93727   \n",
       "\n",
       "  venue.location.state                     venue.name venue.photos.count  \\\n",
       "0                   CA                    Los Panchos                  0   \n",
       "1                   CA                 Sunnyside Deli                  0   \n",
       "2                   CA  O'Sullivan's Sunnyside Lounge                  0   \n",
       "3                   CA                        Wendy’s                  0   \n",
       "4                   CA                Sunrise Kitchen                  0   \n",
       "\n",
       "  venue.photos.groups  venue.venuePage.id  \n",
       "0                  []                 NaN  \n",
       "1                  []                 NaN  \n",
       "2                  []                 NaN  \n",
       "3                  []                 NaN  \n",
       "4                  []                 NaN  \n",
       "\n",
       "[5 rows x 28 columns]"
      ]
     },
     "execution_count": 92,
     "metadata": {},
     "output_type": "execute_result"
    }
   ],
   "source": [
    "dataframe = json_normalize(items)\n",
    "dataframe.head()"
   ]
  },
  {
   "cell_type": "markdown",
   "metadata": {},
   "source": [
    "The required columns are retrieved and renamed as required."
   ]
  },
  {
   "cell_type": "code",
   "execution_count": 93,
   "metadata": {},
   "outputs": [],
   "source": [
    "def get_category_type(row):\n",
    "    try:\n",
    "        categories_list = row['categories']\n",
    "    except:\n",
    "        categories_list = row['venue.categories']\n",
    "        \n",
    "    if len(categories_list) == 0:\n",
    "        return None\n",
    "    else:\n",
    "        return categories_list[0]['name']"
   ]
  },
  {
   "cell_type": "code",
   "execution_count": 94,
   "metadata": {},
   "outputs": [],
   "source": [
    "venues = results['response']['groups'][0]['items']\n",
    "    \n",
    "nearby_venues = json_normalize(venues)\n",
    "\n",
    "filtered_columns = ['venue.name', 'venue.categories', 'venue.location.lat', 'venue.location.lng']\n",
    "nearby_venues =nearby_venues.loc[:, filtered_columns]\n",
    "\n",
    "nearby_venues['venue.categories'] = nearby_venues.apply(get_category_type, axis=1)\n",
    "\n",
    "nearby_venues.columns = [col.split(\".\")[-1] for col in nearby_venues.columns]\n",
    "\n",
    "nearby_venues['categories']=nearby_venues['categories'].str.replace('/',',')\n",
    "\n",
    "old_nearby_venues=nearby_venues"
   ]
  },
  {
   "cell_type": "code",
   "execution_count": 95,
   "metadata": {},
   "outputs": [],
   "source": [
    "check_list=['Restaurant','Store','Shop','Garden','Park','Gym','Museum','Theatre','Hotel','Cafe','Market','Pub']\n",
    "new_check_list=['Restaurant','Everyday Store','Everyday Shop','Garden','Park','Gym','Museum','Theatre','Hotel','Cafe','Market','Pub']"
   ]
  },
  {
   "cell_type": "markdown",
   "metadata": {},
   "source": [
    "Data cleaning is thoroughly performed. Some venue categories are renamed to some convenient titles which would further make it easy and effective when the machine learning algorithms are applied. Two copies of the same dataframe is made but with slight variations. The stores,shops,bars and restaurants are not renamed for the dataframe 'old_nearby_venues' so as to enable the user in giving an accurate input later."
   ]
  },
  {
   "cell_type": "code",
   "execution_count": 96,
   "metadata": {},
   "outputs": [],
   "source": [
    "new=nearby_venues[~nearby_venues['categories'].str.contains('Restaurant')]\n",
    "new=new[~new['categories'].str.contains('Bar')]\n",
    "new=new[~new['categories'].str.contains('Plaza')]\n",
    "new=new[~new['categories'].str.contains('Store')]\n",
    "new=new[~new['categories'].str.contains('store')]\n",
    "new=new[~new['categories'].str.contains('Shop')]\n",
    "new=new[~new['categories'].str.contains('shop')]\n",
    "new=new[~new['categories'].str.contains('Garden')]\n",
    "new=new[~new['categories'].str.contains('Park')]\n",
    "new=new[~new['categories'].str.contains('Gym')]\n",
    "new=new[~new['categories'].str.contains('Museum')]\n",
    "new=new[~new['categories'].str.contains('Theatre')]\n",
    "new=new[~new['categories'].str.contains('Theater')]\n",
    "new=new[~new['categories'].str.contains('Hotel')]\n",
    "new=new[~new['categories'].str.contains('Café')]\n",
    "new=new[~new['categories'].str.contains('Market')]\n",
    "new=new[~new['categories'].str.contains('market')]\n",
    "new=new[~new['categories'].str.contains('Pub')]\n",
    "new=new[~new['categories'].str.contains('pub')]"
   ]
  },
  {
   "cell_type": "code",
   "execution_count": 97,
   "metadata": {},
   "outputs": [
    {
     "name": "stderr",
     "output_type": "stream",
     "text": [
      "C:\\Users\\Titas Sarkar\\Anaconda3\\lib\\site-packages\\pandas\\core\\generic.py:4405: SettingWithCopyWarning: \n",
      "A value is trying to be set on a copy of a slice from a DataFrame.\n",
      "Try using .loc[row_indexer,col_indexer] = value instead\n",
      "\n",
      "See the caveats in the documentation: http://pandas.pydata.org/pandas-docs/stable/indexing.html#indexing-view-versus-copy\n",
      "  self[name] = value\n"
     ]
    }
   ],
   "source": [
    "res=nearby_venues[nearby_venues['categories'].str.contains('Restaurant')]\n",
    "bar=nearby_venues[nearby_venues['categories'].str.contains('Bar')]\n",
    "plaza=nearby_venues[nearby_venues['categories'].str.contains('Plaza')]\n",
    "store=nearby_venues[nearby_venues['categories'].str.contains('Store')]\n",
    "store1=nearby_venues[nearby_venues['categories'].str.contains('store')]\n",
    "shop=nearby_venues[nearby_venues['categories'].str.contains('Shop')]\n",
    "shop1=nearby_venues[nearby_venues['categories'].str.contains('shop')]\n",
    "gar=nearby_venues[nearby_venues['categories'].str.contains('Garden')]\n",
    "park=nearby_venues[nearby_venues['categories'].str.contains('Park')]\n",
    "gym=nearby_venues[nearby_venues['categories'].str.contains('Gym')]\n",
    "mus=nearby_venues[nearby_venues['categories'].str.contains('Museum')]\n",
    "thr=nearby_venues[nearby_venues['categories'].str.contains('Theatre')]\n",
    "thr1=nearby_venues[nearby_venues['categories'].str.contains('Theater')]\n",
    "hot=nearby_venues[nearby_venues['categories'].str.contains('Hotel')]\n",
    "cafe=nearby_venues[nearby_venues['categories'].str.contains('Café')]\n",
    "mark=nearby_venues[nearby_venues['categories'].str.contains('Market')]\n",
    "mark1=nearby_venues[nearby_venues['categories'].str.contains('market')]\n",
    "pub=nearby_venues[nearby_venues['categories'].str.contains('Pub')]\n",
    "pub1=nearby_venues[nearby_venues['categories'].str.contains('pub')]\n",
    "\n",
    "res.categories='Restaurant'\n",
    "bar.categories='Bar'\n",
    "plaza.categories='Plaza'\n",
    "store.categories='Everyday Store'\n",
    "store1.categories='Everyday Store'\n",
    "shop.categories='Everyday Shop'\n",
    "shop1.categories='Everyday Shop'\n",
    "gar.categories='Garden'\n",
    "park.categories='Park'\n",
    "gym.categories='Gym'\n",
    "mus.categories='Museum'\n",
    "thr.categories='Theatre'\n",
    "thr1.categories='Theatre'\n",
    "hot.categories='Hotel'\n",
    "cafe.categories='Cafe'\n",
    "mark.categories='Market'\n",
    "mark1.categories='Market'\n",
    "pub.categories='Pub'\n",
    "pub1.categories='Pub'"
   ]
  },
  {
   "cell_type": "markdown",
   "metadata": {},
   "source": [
    "The renamed column data is appended to the new dataframe named 'new' and is finally stored in the existing dataframe 'nearby_venues'."
   ]
  },
  {
   "cell_type": "code",
   "execution_count": 98,
   "metadata": {},
   "outputs": [],
   "source": [
    "new=new.append(res)\n",
    "new=new.append(bar)\n",
    "new=new.append(plaza)\n",
    "new=new.append(store)\n",
    "new=new.append(store1)\n",
    "new=new.append(shop)\n",
    "new=new.append(shop1)\n",
    "new=new.append(gar)\n",
    "new=new.append(park)\n",
    "new=new.append(gym)\n",
    "new=new.append(mus)\n",
    "new=new.append(thr)\n",
    "new=new.append(thr1)\n",
    "new=new.append(hot)\n",
    "new=new.append(cafe)\n",
    "new=new.append(mark)\n",
    "new=new.append(mark1)\n",
    "new=new.append(pub)\n",
    "new=new.append(pub1)"
   ]
  },
  {
   "cell_type": "code",
   "execution_count": 99,
   "metadata": {},
   "outputs": [],
   "source": [
    "nearby_venues=new"
   ]
  },
  {
   "cell_type": "code",
   "execution_count": 100,
   "metadata": {},
   "outputs": [],
   "source": [
    "new=old_nearby_venues[~old_nearby_venues['categories'].str.contains('Garden')]\n",
    "new=new[~new['categories'].str.contains('Plaza')]\n",
    "new=new[~new['categories'].str.contains('Park')]\n",
    "new=new[~new['categories'].str.contains('Gym')]\n",
    "new=new[~new['categories'].str.contains('Museum')]\n",
    "new=new[~new['categories'].str.contains('Theatre')]\n",
    "new=new[~new['categories'].str.contains('Theater')]\n",
    "new=new[~new['categories'].str.contains('Hotel')]\n",
    "new=new[~new['categories'].str.contains('Café')]\n",
    "new=new[~new['categories'].str.contains('Market')]\n",
    "new=new[~new['categories'].str.contains('market')]\n",
    "new=new[~new['categories'].str.contains('Pub')]\n",
    "new=new[~new['categories'].str.contains('pub')]"
   ]
  },
  {
   "cell_type": "code",
   "execution_count": 101,
   "metadata": {},
   "outputs": [],
   "source": [
    "gar=old_nearby_venues[old_nearby_venues['categories'].str.contains('Garden')]\n",
    "plaza=old_nearby_venues[old_nearby_venues['categories'].str.contains('Plaza')]\n",
    "park=old_nearby_venues[old_nearby_venues['categories'].str.contains('Park')]\n",
    "gym=old_nearby_venues[old_nearby_venues['categories'].str.contains('Gym')]\n",
    "mus=old_nearby_venues[old_nearby_venues['categories'].str.contains('Museum')]\n",
    "thr=old_nearby_venues[old_nearby_venues['categories'].str.contains('Theatre')]\n",
    "thr1=old_nearby_venues[old_nearby_venues['categories'].str.contains('Theater')]\n",
    "hot=old_nearby_venues[old_nearby_venues['categories'].str.contains('Hotel')]\n",
    "cafe=old_nearby_venues[old_nearby_venues['categories'].str.contains('Café')]\n",
    "mark=old_nearby_venues[old_nearby_venues['categories'].str.contains('Market')]\n",
    "mark1=old_nearby_venues[old_nearby_venues['categories'].str.contains('market')]\n",
    "pub=old_nearby_venues[old_nearby_venues['categories'].str.contains('Pub')]\n",
    "pub1=old_nearby_venues[old_nearby_venues['categories'].str.contains('pub')]"
   ]
  },
  {
   "cell_type": "code",
   "execution_count": 102,
   "metadata": {},
   "outputs": [],
   "source": [
    "gar.categories='Garden'\n",
    "plaza.categories='Plaza'\n",
    "park.categories='Park'\n",
    "gym.categories='Gym'\n",
    "mus.categories='Museum'\n",
    "thr.categories='Theatre'\n",
    "thr1.categories='Theatre'\n",
    "hot.categories='Hotel'\n",
    "cafe.categories='Café'\n",
    "mark.categories='Market'\n",
    "mark1.categories='Market'\n",
    "pub.categories='Pub'\n",
    "pub1.categories='Pub'"
   ]
  },
  {
   "cell_type": "markdown",
   "metadata": {},
   "source": [
    "The renamed column data is appended to the new dataframe named 'new' and is finally stored in the existing dataframe 'old_nearby_venues'."
   ]
  },
  {
   "cell_type": "code",
   "execution_count": 103,
   "metadata": {},
   "outputs": [],
   "source": [
    "new=new.append(gar)\n",
    "new=new.append(plaza)\n",
    "new=new.append(park)\n",
    "new=new.append(gym)\n",
    "new=new.append(mus)\n",
    "new=new.append(thr)\n",
    "new=new.append(thr1)\n",
    "new=new.append(hot)\n",
    "new=new.append(cafe)\n",
    "new=new.append(mark)\n",
    "new=new.append(mark1)\n",
    "new=new.append(pub)\n",
    "new=new.append(pub1)"
   ]
  },
  {
   "cell_type": "code",
   "execution_count": 104,
   "metadata": {},
   "outputs": [],
   "source": [
    "old_nearby_venues=new"
   ]
  },
  {
   "cell_type": "markdown",
   "metadata": {},
   "source": [
    "The 'categories' column data is split into two strings with the delimiter being comma(,), and only the first string is kept."
   ]
  },
  {
   "cell_type": "code",
   "execution_count": 105,
   "metadata": {},
   "outputs": [],
   "source": [
    "old_nearby_venues['categories'] = old_nearby_venues['categories'].str.split(',').str[0]"
   ]
  },
  {
   "cell_type": "code",
   "execution_count": 106,
   "metadata": {},
   "outputs": [],
   "source": [
    "nearby_venues['categories'] = nearby_venues['categories'].str.split(',').str[0]"
   ]
  },
  {
   "cell_type": "markdown",
   "metadata": {},
   "source": [
    "White spaces from the ends of string are removed."
   ]
  },
  {
   "cell_type": "code",
   "execution_count": 107,
   "metadata": {},
   "outputs": [],
   "source": [
    "old_nearby_venues.categories = old_nearby_venues.categories.str.rstrip()"
   ]
  },
  {
   "cell_type": "code",
   "execution_count": 108,
   "metadata": {},
   "outputs": [
    {
     "data": {
      "text/plain": [
       "102"
      ]
     },
     "execution_count": 108,
     "metadata": {},
     "output_type": "execute_result"
    }
   ],
   "source": [
    "row_count = nearby_venues.shape[0]\n",
    "row_count"
   ]
  },
  {
   "cell_type": "markdown",
   "metadata": {},
   "source": [
    "One hot encoding is performed on the 'categories' column."
   ]
  },
  {
   "cell_type": "code",
   "execution_count": 109,
   "metadata": {},
   "outputs": [],
   "source": [
    "onehot = pd.get_dummies(nearby_venues[['categories']], prefix=\"\", prefix_sep=\"\") "
   ]
  },
  {
   "cell_type": "markdown",
   "metadata": {},
   "source": [
    "The 'sum of squared mean' is run 20 times to get the maximum optimum value of k."
   ]
  },
  {
   "cell_type": "code",
   "execution_count": 110,
   "metadata": {},
   "outputs": [],
   "source": [
    "n=20\n",
    "ks=np.zeros((n-1))\n",
    "max_k_optimum=0\n",
    "\n",
    "for count in range(1,n):\n",
    "    if row_count < 11:\n",
    "        k_rng=range(1,row_count)\n",
    "        sse=[]\n",
    "        for k in k_rng:\n",
    "            km=KMeans(n_clusters=k)\n",
    "            km.fit(onehot)\n",
    "            sse.append(km.inertia_)\n",
    "\n",
    "        a=sse[0]-sse[row_count-2]\n",
    "        b=k_rng[row_count-2]-k_rng[0]\n",
    "        c1=k_rng[0] * sse[row_count-2]\n",
    "        c2=k_rng[row_count-2] * sse[0]\n",
    "        c= c1 - c2\n",
    "\n",
    "        def calc_distance(x1, y1, a, b, c):\n",
    "            d=abs((a * x1 + b * y1 + c)) / (math.sqrt(a * a + b * b))\n",
    "            return d\n",
    "\n",
    "        points=[]\n",
    "        for k in range(row_count-1):\n",
    "            points.append(calc_distance(k_rng[k], sse[k], a, b, c))\n",
    "\n",
    "        k_optimum=str(points.index(max(points))+1)\n",
    "        k_optimum=(int)(k_optimum)\n",
    "        ks[count-1]=k_optimum\n",
    "        if ks[count-1] > max_k_optimum:\n",
    "            max_k_optimum=ks[count-1]\n",
    "\n",
    "    else:\n",
    "        k_rng=range(1,25)\n",
    "        sse=[]\n",
    "        for k in k_rng:\n",
    "            km=KMeans(n_clusters=k)\n",
    "            km.fit(onehot)\n",
    "            sse.append(km.inertia_)\n",
    "    \n",
    "        a=sse[0]-sse[23]\n",
    "        b=k_rng[23]-k_rng[0]\n",
    "        c1=k_rng[0] * sse[23]\n",
    "        c2=k_rng[23] * sse[0]\n",
    "        c= c1 - c2\n",
    "    \n",
    "        def calc_distance(x1, y1, a, b, c):\n",
    "            d=abs((a * x1 + b * y1 + c)) / (math.sqrt(a * a + b * b))\n",
    "            return d\n",
    "    \n",
    "        points=[]\n",
    "        for k in range(24):\n",
    "            points.append(calc_distance(k_rng[k], sse[k], a, b, c))\n",
    "        \n",
    "        k_optimum=str(points.index(max(points))+1)\n",
    "        k_optimum=(int)(k_optimum)\n",
    "        ks[count-1]=k_optimum\n",
    "        if ks[count-1] > max_k_optimum:\n",
    "            max_k_optimum=ks[count-1]"
   ]
  },
  {
   "cell_type": "code",
   "execution_count": 111,
   "metadata": {},
   "outputs": [
    {
     "name": "stdout",
     "output_type": "stream",
     "text": [
      "9\n"
     ]
    }
   ],
   "source": [
    "max_k_optimum=(int)(max_k_optimum)\n",
    "print(max_k_optimum)"
   ]
  },
  {
   "cell_type": "markdown",
   "metadata": {},
   "source": [
    "The k-means clustering algorithm is applied on the one hot encoded data with the value of k being the maximum optimum value of k calculated from the above piece of code."
   ]
  },
  {
   "cell_type": "code",
   "execution_count": 112,
   "metadata": {},
   "outputs": [],
   "source": [
    "kmeans=KMeans(n_clusters=max_k_optimum,random_state=0).fit(onehot)"
   ]
  },
  {
   "cell_type": "markdown",
   "metadata": {},
   "source": [
    "The cluster labels are inserted into the dataframe 'nearby_venues' in a column named 'cluster'."
   ]
  },
  {
   "cell_type": "code",
   "execution_count": 113,
   "metadata": {},
   "outputs": [],
   "source": [
    "nearby_venues.insert(0, 'cluster', kmeans.labels_)"
   ]
  },
  {
   "cell_type": "markdown",
   "metadata": {},
   "source": [
    "A folium map is generated displaying all the venue categories clustered in different colors. "
   ]
  },
  {
   "cell_type": "code",
   "execution_count": 114,
   "metadata": {},
   "outputs": [],
   "source": [
    "import matplotlib.cm as cm\n",
    "import matplotlib.colors as colors\n",
    "\n",
    "# create map\n",
    "map_clusters = folium.Map(location=[latitude, longitude], zoom_start=11)\n",
    "\n",
    "# set color scheme for the clusters\n",
    "x = np.arange(max_k_optimum)\n",
    "ys = [i + x + (i*x)**2 for i in range(max_k_optimum)]\n",
    "colors_array = cm.rainbow(np.linspace(0, 1, len(ys)))\n",
    "rainbow = [colors.rgb2hex(i) for i in colors_array]\n",
    "\n",
    "# add markers to the map\n",
    "markers_colors = []\n",
    "for lat, lon, name, cluster in zip(nearby_venues['lat'], nearby_venues['lng'], nearby_venues['name'], nearby_venues['cluster']):\n",
    "    label = folium.Popup(' Cluster ' + str(cluster) + ':  ' + str(name), parse_html=True)\n",
    "    folium.CircleMarker(\n",
    "        [lat, lon],\n",
    "        radius=5,\n",
    "        popup=label,\n",
    "        color=rainbow[cluster-1],\n",
    "        fill=True,\n",
    "        fill_color=rainbow[cluster-1],\n",
    "        fill_opacity=0.7).add_to(map_clusters)"
   ]
  },
  {
   "cell_type": "markdown",
   "metadata": {},
   "source": [
    "The major venue categories along with their percentages are taken into two different lists. Also, the average latitudes and longitudes of the major categories are stored in other lists."
   ]
  },
  {
   "cell_type": "code",
   "execution_count": 116,
   "metadata": {},
   "outputs": [],
   "source": [
    "avg_lat=[]\n",
    "avg_lng=[]\n",
    "clustered_name=[]\n",
    "clustered_percent=[]\n",
    "identifier=0\n",
    "final=0\n",
    "\n",
    "for i in range(0,max_k_optimum):\n",
    "    cust=nearby_venues[nearby_venues['cluster']==i]\n",
    "    cust=pd.DataFrame(cust)\n",
    "    if len(cust['categories'].unique()) == 1:\n",
    "        count=cust.shape[0]\n",
    "        mean_lat=cust['lat'].mean()\n",
    "        mean_lng=cust['lng'].mean()\n",
    "        avg_lat.append(mean_lat)\n",
    "        avg_lng.append(mean_lng)\n",
    "        val=cust['categories'].values[0]\n",
    "        n=len(cust)\n",
    "        percent=(n/row_count)*100\n",
    "        percent=round(percent)\n",
    "        clustered_name.append(val)\n",
    "        clustered_percent.append(percent)\n",
    "    else:\n",
    "        n=len(cust)\n",
    "        percent=(n/row_count)*100\n",
    "        percent=round(percent)\n",
    "        val='Miscellaneous'\n",
    "        final=1\n",
    "        clustered_name.append(val)\n",
    "        clustered_percent.append(percent)"
   ]
  },
  {
   "cell_type": "markdown",
   "metadata": {},
   "source": [
    "The number of venue categories the user would love to have around his/her business is taken as input. Also, the venue categories of that particular town/city is displayed for the user to make a choice from."
   ]
  },
  {
   "cell_type": "code",
   "execution_count": 117,
   "metadata": {},
   "outputs": [
    {
     "name": "stdout",
     "output_type": "stream",
     "text": [
      "Airport\n",
      "Bakery\n",
      "Bank\n",
      "Breakfast Spot\n",
      "Burger Joint\n",
      "Chinese Restaurant\n",
      "Clothing Store\n",
      "Cocktail Bar\n",
      "Coffee Shop\n",
      "Convenience Store\n",
      "Discount Store\n",
      "Fast Food Restaurant\n",
      "Fried Chicken Joint\n",
      "Gas Station\n",
      "Golf Course\n",
      "Greek Restaurant\n",
      "Grocery Store\n",
      "Gym\n",
      "Hardware Store\n",
      "Hot Dog Joint\n",
      "Hotel\n",
      "Ice Cream Shop\n",
      "Intersection\n",
      "Italian Restaurant\n",
      "Juice Bar\n",
      "Karaoke Bar\n",
      "Lounge\n",
      "Market\n",
      "Mediterranean Restaurant\n",
      "Mexican Restaurant\n",
      "Mobile Phone Shop\n",
      "Museum\n",
      "Park\n",
      "Pharmacy\n",
      "Pizza Place\n",
      "Racetrack\n",
      "Rental Car Location\n",
      "Salon\n",
      "Sandwich Place\n",
      "Taco Place\n",
      "Thrift\n",
      "Video Game Store\n",
      "Wings Joint\n",
      "\n",
      "Enter number of venues you would love to have around your business from the list above. You can enter a maximum of 43 venues. 3\n"
     ]
    }
   ],
   "source": [
    "options=[]\n",
    "c=0\n",
    "df=pd.DataFrame(columns=['categories'])\n",
    "df.categories=old_nearby_venues['categories']\n",
    "df=df.categories.unique()\n",
    "df=pd.DataFrame(df,columns=['categories'])\n",
    "df=df.sort_values('categories')\n",
    "for i in df['categories'].values:\n",
    "    print(i)\n",
    "    c=c+1\n",
    "print()\n",
    "maximum=input(\"Enter number of venues you would love to have around your business from the list above. You can enter a maximum of \" + (str)(c) + \" venues. \")"
   ]
  },
  {
   "cell_type": "code",
   "execution_count": 118,
   "metadata": {},
   "outputs": [
    {
     "name": "stdout",
     "output_type": "stream",
     "text": [
      "Option 1 : Museum\n",
      "Option 2 : Hotel\n",
      "Option 3 : Airport\n"
     ]
    }
   ],
   "source": [
    "for i in range(0,(int)(maximum)):\n",
    "    option=input('Option ' + (str)(i+1) + ' : ')\n",
    "    options.append(option)"
   ]
  },
  {
   "cell_type": "markdown",
   "metadata": {},
   "source": [
    "The new possible coordinates are calculated based on the information given by the user."
   ]
  },
  {
   "cell_type": "code",
   "execution_count": 119,
   "metadata": {},
   "outputs": [],
   "source": [
    "opt_lat=[]\n",
    "opt_lng=[]\n",
    "lat=0\n",
    "lng=0\n",
    "count=0\n",
    "for i in range(len(options)):\n",
    "    check=options[i]\n",
    "    for (j,k,l) in (zip(old_nearby_venues['categories'].values,old_nearby_venues['lat'].values,old_nearby_venues['lng'].values)):\n",
    "        if j==check:\n",
    "            count=count+1\n",
    "            lat=lat+k\n",
    "            lng=lng+l\n",
    "    lat=lat/count\n",
    "    lng=lng/count\n",
    "    opt_lat.append(lat)\n",
    "    opt_lng.append(lng)\n",
    "    lat=0\n",
    "    lng=0\n",
    "    count=0"
   ]
  },
  {
   "cell_type": "code",
   "execution_count": 120,
   "metadata": {},
   "outputs": [],
   "source": [
    "lat=st.mean(opt_lat)\n",
    "lng=st.mean(opt_lng)"
   ]
  },
  {
   "cell_type": "code",
   "execution_count": 121,
   "metadata": {},
   "outputs": [],
   "source": [
    "result=-1\n",
    "j=0\n",
    "for i in check_list:\n",
    "    result=business.find(i)\n",
    "    if result!=-1:\n",
    "        business=new_check_list[j]\n",
    "    j=j+1"
   ]
  },
  {
   "cell_type": "markdown",
   "metadata": {},
   "source": [
    "The support vector machine classification algorithm is applied to predict the category of the business or venue given as input by the user."
   ]
  },
  {
   "cell_type": "code",
   "execution_count": 122,
   "metadata": {},
   "outputs": [
    {
     "name": "stderr",
     "output_type": "stream",
     "text": [
      "C:\\Users\\Titas Sarkar\\Anaconda3\\lib\\site-packages\\sklearn\\preprocessing\\data.py:625: DataConversionWarning: Data with input dtype uint8 were all converted to float64 by StandardScaler.\n",
      "  return self.partial_fit(X, y)\n",
      "C:\\Users\\Titas Sarkar\\Anaconda3\\lib\\site-packages\\ipykernel_launcher.py:10: DataConversionWarning: Data with input dtype uint8 were all converted to float64 by StandardScaler.\n",
      "  # Remove the CWD from sys.path while we load stuff.\n",
      "C:\\Users\\Titas Sarkar\\Anaconda3\\lib\\site-packages\\sklearn\\preprocessing\\data.py:625: DataConversionWarning: Data with input dtype uint8 were all converted to float64 by StandardScaler.\n",
      "  return self.partial_fit(X, y)\n",
      "C:\\Users\\Titas Sarkar\\Anaconda3\\lib\\site-packages\\ipykernel_launcher.py:29: DataConversionWarning: Data with input dtype uint8 were all converted to float64 by StandardScaler.\n"
     ]
    }
   ],
   "source": [
    "if len(clustered_name) > 1:\n",
    "    un1=''\n",
    "    un2=''\n",
    "    row = [(un1,un2,business,lat,lng)]\n",
    "\n",
    "    row = pd.DataFrame(row, columns = ['cluster', 'name', 'categories', 'lat', 'lng'])\n",
    "\n",
    "    feature = pd.DataFrame()\n",
    "    feature = pd.concat([feature,pd.get_dummies(nearby_venues['categories'])], axis=1)\n",
    "    x = preprocessing.StandardScaler().fit(feature).transform(feature)\n",
    "    y = nearby_venues['cluster']\n",
    "\n",
    "    from sklearn.model_selection import train_test_split\n",
    "    x_train, x_test, y_train, y_test = train_test_split( x, y, test_size=0.0, random_state=4)\n",
    "\n",
    "    from sklearn import svm\n",
    "    SVM = svm.SVC()\n",
    "    SVM.fit(x_train, y_train)\n",
    "\n",
    "    flag=0\n",
    "    predicted_cluster=-1\n",
    "    for i in nearby_venues['categories'].values:\n",
    "        if i==business:\n",
    "            flag=1\n",
    "    if flag==1:\n",
    "        nearby_venues=nearby_venues.append(row,ignore_index=True)\n",
    "        feature = pd.DataFrame()\n",
    "        feature = pd.concat([feature,pd.get_dummies(nearby_venues['categories'])], axis=1)\n",
    "        x = preprocessing.StandardScaler().fit(feature).transform(feature)\n",
    "        svm_predict = SVM.predict(x)\n",
    "        array_length = len(svm_predict)\n",
    "        last_element = svm_predict[array_length - 1]\n",
    "        predicted_cluster=(int)(last_element)\n",
    "    if final==1 and flag==0:\n",
    "        predicted_cluster=0"
   ]
  },
  {
   "cell_type": "markdown",
   "metadata": {},
   "source": [
    "Required markers are added to the folium map i.e the new coordinates."
   ]
  },
  {
   "cell_type": "code",
   "execution_count": 123,
   "metadata": {},
   "outputs": [
    {
     "data": {
      "text/plain": [
       "<folium.map.Marker at 0x236b28685c0>"
      ]
     },
     "execution_count": 123,
     "metadata": {},
     "output_type": "execute_result"
    }
   ],
   "source": [
    "folium.Marker(\n",
    "    location=[lat,lng],\n",
    "    icon=folium.Icon(icon='cloud')\n",
    ").add_to(map_clusters)"
   ]
  },
  {
   "cell_type": "markdown",
   "metadata": {},
   "source": [
    "The result is a folium map with the popup being the required coordinates of the location where the business or the venue could be possibly set up, along with the following information derived from various input taken from the user."
   ]
  },
  {
   "cell_type": "code",
   "execution_count": 124,
   "metadata": {
    "scrolled": false
   },
   "outputs": [
    {
     "name": "stdout",
     "output_type": "stream",
     "text": [
      "Major categories in Fresno, California are -->\n",
      "\n",
      "Miscellaneous : 25%\n",
      "Everyday Store : 16%\n",
      "Restaurant : 25%\n",
      "Sandwich Place : 7%\n",
      "Rental Car Location : 5%\n",
      "Everyday Shop : 9%\n",
      "Pharmacy : 5%\n",
      "Bar : 5%\n",
      "Pizza Place : 5%\n",
      "\n",
      "The kind of business you are trying to open falls into the 25% Restaurant category. Based on the data you have provided to us, we recommend you to set up your business within 1 km radius of the popup marked on the map given below.\n",
      "Popup coordinates --> Latitude : 36.76790439511148  Longitude : -119.72342289903952\n"
     ]
    },
    {
     "data": {
      "text/html": [
       "<div style=\"width:100%;\"><div style=\"position:relative;width:100%;height:0;padding-bottom:60%;\"><iframe src=\"data:text/html;charset=utf-8;base64,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\" style=\"position:absolute;width:100%;height:100%;left:0;top:0;border:none !important;\" allowfullscreen webkitallowfullscreen mozallowfullscreen></iframe></div></div>"
      ],
      "text/plain": [
       "<folium.folium.Map at 0x236b17ad198>"
      ]
     },
     "execution_count": 124,
     "metadata": {},
     "output_type": "execute_result"
    }
   ],
   "source": [
    "print('Major categories in ' + entry + ' are -->')\n",
    "print()\n",
    "for (i,j) in (zip(clustered_name,clustered_percent)):\n",
    "    print((str)(i) + ' : ' + (str)(j) + '%')\n",
    "print()\n",
    "if len(clustered_name) > 1:\n",
    "    if flag==0 and final==0:\n",
    "        print('Your business does not fall into any category we have made. This is a new type of business you are trying to open which is almost not present in the location you have provided. This significantly boosts the chances of you being successful in your business. Based on the data you have provided to us, we recommend you to set up your business within 1 km radius of the popup marked on the map given below.')\n",
    "    else:\n",
    "        print('The kind of business you are trying to open falls into the ' + (str)(clustered_percent[predicted_cluster]) + '% ' + (str)(clustered_name[predicted_cluster]) + ' category. Based on the data you have provided to us, we recommend you to set up your business within 1 km radius of the popup marked on the map given below.')\n",
    "    print('Popup coordinates --> Latitude : ' + (str)(lat) + '  Longitude : ' + (str)(lng))\n",
    "if len(clustered_name) == 1:\n",
    "    print('The kind of business you are trying to open falls into the one and only ' + (str)(clustered_name[0]) + ' category. Based on the data you have provided to us, we recommend you to set up your business within 1 km radius of the popup marked on the map given below.')\n",
    "    print('Popup coordinates --> Latitude : ' + (str)(lat) + '  Longitude : ' + (str)(lng))\n",
    "map_clusters"
   ]
  },
  {
   "cell_type": "code",
   "execution_count": null,
   "metadata": {},
   "outputs": [],
   "source": []
  }
 ],
 "metadata": {
  "kernelspec": {
   "display_name": "Python 3",
   "language": "python",
   "name": "python3"
  },
  "language_info": {
   "codemirror_mode": {
    "name": "ipython",
    "version": 3
   },
   "file_extension": ".py",
   "mimetype": "text/x-python",
   "name": "python",
   "nbconvert_exporter": "python",
   "pygments_lexer": "ipython3",
   "version": "3.7.1"
  }
 },
 "nbformat": 4,
 "nbformat_minor": 2
}
