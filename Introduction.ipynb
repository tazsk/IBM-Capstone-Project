{
 "cells": [
  {
   "cell_type": "markdown",
   "metadata": {},
   "source": [
    "This project targets a business problem as in what category a business, which an user has decided to open, falls in. Also, coordinates are calculated where the business could be set up. First, a list of options is provided to the user from which the user can select a kind of business that he/she wants to open. Options include business categories and also venue categories which could be opened by government or private firms. Second, data cleaning is performed on the raw data and is made  ready to be worked upon. A clustering algorithm is applied to find the major categories of the different venues present in the location provided by the user. The kind of business the user wants to open is categorized using a classification algorithm, possible coordinates are calculated based on some information given by the user, and a popup appears on a world map indicating the coordinates along with the other venues clustered in different colours. Typical users of this project can be anyone thinking of going into business but is unable to decide as to where in the city/town the business could be set up. Moreover, one gets an idea of the major categories of businesses or type of venues already existing in the location, followed by the added advantage of making an informed decision. This might not be beneficial to users planning to start a business in a village or even in a small scale town. Thus, the target audience are people who would like to open his/her business in a town/city but is unable to find a perfect location in that town/city. The API used in this project is the Foursquare API which essentially provides data on check-ins. It has certain limitations. Not all the venues present within a particular radius is visible to the user nor the same could be retrieved when an API call is made. This was an overview of what 'Business Location Finder' is all about."
   ]
  },
  {
   "cell_type": "code",
   "execution_count": null,
   "metadata": {},
   "outputs": [],
   "source": []
  }
 ],
 "metadata": {
  "kernelspec": {
   "display_name": "Python 3",
   "language": "python",
   "name": "python3"
  },
  "language_info": {
   "codemirror_mode": {
    "name": "ipython",
    "version": 3
   },
   "file_extension": ".py",
   "mimetype": "text/x-python",
   "name": "python",
   "nbconvert_exporter": "python",
   "pygments_lexer": "ipython3",
   "version": "3.7.1"
  }
 },
 "nbformat": 4,
 "nbformat_minor": 2
}
